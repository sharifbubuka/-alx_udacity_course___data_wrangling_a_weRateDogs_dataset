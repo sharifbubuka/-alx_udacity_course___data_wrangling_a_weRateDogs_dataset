{
 "cells": [
  {
   "cell_type": "markdown",
   "id": "4e305c7a",
   "metadata": {},
   "source": [
    "## DATA WRANGLING - @WERATEDOGS DATASET\n",
    "In this project,"
   ]
  },
  {
   "cell_type": "code",
   "execution_count": 89,
   "id": "2808bb7d",
   "metadata": {},
   "outputs": [],
   "source": [
    "# import installed packages\n",
    "import pandas as pd\n",
    "import numpy as np\n",
    "import requests\n",
    "import json\n",
    "import tweepy\n",
    "from tweepy import OAuthHandler\n",
    "from timeit import default_timer as timer\n",
    "from bs4 import BeautifulSoup"
   ]
  },
  {
   "cell_type": "code",
   "execution_count": 97,
   "id": "d5eb2ad6",
   "metadata": {},
   "outputs": [],
   "source": [
    "# setup tweepy\n",
    "_consumer_key = ''\n",
    "_consumer_secret = ''\n",
    "_access_token = ''\n",
    "_access_token_secret = ''\n",
    "\n",
    "with open('auth_keys.txt', 'r') as auth_keys:\n",
    "    try:\n",
    "        _consumer_key = auth_keys.readline().split('\"')[1:-1][0]\n",
    "        _consumer_secret = auth_keys.readline().split('\"')[1:-1][0]\n",
    "        _access_token = auth_keys.readline().split('\"')[1:-1][0]\n",
    "        _access_token_secret = auth_keys.readline().split('\"')[1:-1][0]\n",
    "    except:\n",
    "        raise Exception('Error: auth_keys.txt is missing or keys not found in source.')\n",
    "\n",
    "auth = OAuthHandler(_consumer_key, _consumer_secret)\n",
    "auth.set_access_token(_access_token, _access_token_secret)\n",
    "api = tweepy.API(auth, wait_on_rate_limit=True)"
   ]
  },
  {
   "cell_type": "code",
   "execution_count": 98,
   "id": "8dcf85d3",
   "metadata": {},
   "outputs": [],
   "source": [
    "# reusable functions\n",
    "def get_image_predictions_tsv():\n",
    "    url = \" https://d17h27t6h515a5.cloudfront.net/topher/2017/August/599fd2ad_image-predictions/image-predictions.tsv\"\n",
    "    response = requests.get(url)\n",
    "    with open('image-predictions.tsv', 'wb') as file:\n",
    "        file.write(response.content)\n",
    "        \n",
    "def get_tweet_status(tweet_id):\n",
    "    if (isinstance(tweet_id, str)):\n",
    "        try:\n",
    "            tweet_status = api.get_status(tweet_id, tweet_mode='extended')\n",
    "            return tweet_status # retweet_count | favorite_count | id_str\n",
    "        except:\n",
    "            return None\n",
    "    else:\n",
    "        raise Exception(\"Invalid argument types passed to function.\")      "
   ]
  },
  {
   "cell_type": "markdown",
   "id": "21a642e0",
   "metadata": {},
   "source": [
    "### 1. GATHERING DATA"
   ]
  },
  {
   "cell_type": "code",
   "execution_count": 4,
   "id": "cc3f2d72",
   "metadata": {},
   "outputs": [],
   "source": [
    "# Gather data from memory\n",
    "tweets_df = pd.read_csv(\"twitter-archive-enhanced.csv\")\n",
    "images_df = pd.read_csv(\"image-predictions.tsv\", sep=\"\\t\")"
   ]
  },
  {
   "cell_type": "code",
   "execution_count": 6,
   "id": "3c1b5edb",
   "metadata": {},
   "outputs": [],
   "source": [
    "# Get each tweet's status string using Tweepy \n",
    "with open('tweet_json.txt', 'w') as file:\n",
    "        start = timer()\n",
    "        for index, row in tweets_df.iterrows():\n",
    "            tweet_status = get_tweet_status(str(row['tweet_id']))\n",
    "            # Store each tweet's entire status string in tweet_json.txt file\n",
    "            if tweet_status is None:\n",
    "                file.write('id_str: u\\'Invalid\\',retweet_count\\': Invalid, favorite_count\\': Invalid,\\n')\n",
    "            file.write(str(tweet_status) + '\\n')\n",
    "        end = timer()\n",
    "\n",
    "print('Time taken: ' + str(end - start)) # 47m 31.4s\n",
    "\n",
    "# Create a DataFrame with tweet_id, retweet_count and favorite_count for each tweet\n",
    "df_data = {'tweet_id': [], 'retweet_count': [], 'favorite_count': []}\n",
    "\n",
    "with open('tweet_json.txt', 'r') as tweet_json:\n",
    "    lines = tweet_json.read().split('\\n');\n",
    "    for line in lines:\n",
    "        try:\n",
    "           df_data['tweet_id'].append(line.split('id_str\\': u\\'')[1].split('\\'')[0])\n",
    "           df_data['retweet_count'].append(line.split('retweet_count\\': ')[1].split(',')[0])\n",
    "           df_data['favorite_count'].append(line.split('favorite_count\\': ')[1].split(',')[0]) \n",
    "        except:\n",
    "            pass\n",
    "\n",
    "tweets_meta_df = pd.DataFrame(df_data)\n",
    "tweets_meta_df.to_csv('tweets_meta.csv')"
   ]
  },
  {
   "cell_type": "markdown",
   "id": "6530de6f",
   "metadata": {},
   "source": [
    "### 2. ASSESS"
   ]
  },
  {
   "cell_type": "code",
   "execution_count": null,
   "id": "df3d8f8c",
   "metadata": {},
   "outputs": [],
   "source": [
    "tweets_df"
   ]
  },
  {
   "cell_type": "code",
   "execution_count": null,
   "id": "8be33cbf",
   "metadata": {},
   "outputs": [],
   "source": [
    "images_df"
   ]
  },
  {
   "cell_type": "code",
   "execution_count": null,
   "id": "9a0c5d63",
   "metadata": {},
   "outputs": [],
   "source": [
    "tweets_meta_df"
   ]
  },
  {
   "cell_type": "code",
   "execution_count": null,
   "id": "39524f36",
   "metadata": {},
   "outputs": [],
   "source": [
    "tweets_df.info()"
   ]
  },
  {
   "cell_type": "code",
   "execution_count": null,
   "id": "2093c760",
   "metadata": {},
   "outputs": [],
   "source": [
    "images_df.info()"
   ]
  },
  {
   "cell_type": "code",
   "execution_count": null,
   "id": "95b3709c",
   "metadata": {},
   "outputs": [],
   "source": [
    "tweets_meta_df.info()"
   ]
  },
  {
   "cell_type": "code",
   "execution_count": 7,
   "id": "8ceca123",
   "metadata": {},
   "outputs": [
    {
     "data": {
      "text/plain": [
       "17    tweet_id\n",
       "31    tweet_id\n",
       "dtype: object"
      ]
     },
     "execution_count": 7,
     "metadata": {},
     "output_type": "execute_result"
    }
   ],
   "source": [
    "all_columns = pd.Series(list(tweets_df) + list(images_df) + list(tweets_meta_df))\n",
    "all_columns[all_columns.duplicated()]"
   ]
  },
  {
   "cell_type": "code",
   "execution_count": 8,
   "id": "b2f6256d",
   "metadata": {},
   "outputs": [
    {
     "data": {
      "text/html": [
       "<div>\n",
       "<style scoped>\n",
       "    .dataframe tbody tr th:only-of-type {\n",
       "        vertical-align: middle;\n",
       "    }\n",
       "\n",
       "    .dataframe tbody tr th {\n",
       "        vertical-align: top;\n",
       "    }\n",
       "\n",
       "    .dataframe thead th {\n",
       "        text-align: right;\n",
       "    }\n",
       "</style>\n",
       "<table border=\"1\" class=\"dataframe\">\n",
       "  <thead>\n",
       "    <tr style=\"text-align: right;\">\n",
       "      <th></th>\n",
       "      <th>tweet_id</th>\n",
       "      <th>in_reply_to_status_id</th>\n",
       "      <th>in_reply_to_user_id</th>\n",
       "      <th>timestamp</th>\n",
       "      <th>source</th>\n",
       "      <th>text</th>\n",
       "      <th>retweeted_status_id</th>\n",
       "      <th>retweeted_status_user_id</th>\n",
       "      <th>retweeted_status_timestamp</th>\n",
       "      <th>expanded_urls</th>\n",
       "      <th>rating_numerator</th>\n",
       "      <th>rating_denominator</th>\n",
       "      <th>name</th>\n",
       "      <th>doggo</th>\n",
       "      <th>floofer</th>\n",
       "      <th>pupper</th>\n",
       "      <th>puppo</th>\n",
       "    </tr>\n",
       "  </thead>\n",
       "  <tbody>\n",
       "    <tr>\n",
       "      <th>0</th>\n",
       "      <td>892420643555336193</td>\n",
       "      <td>NaN</td>\n",
       "      <td>NaN</td>\n",
       "      <td>2017-08-01 16:23:56 +0000</td>\n",
       "      <td>&lt;a href=\"http://twitter.com/download/iphone\" r...</td>\n",
       "      <td>This is Phineas. He's a mystical boy. Only eve...</td>\n",
       "      <td>NaN</td>\n",
       "      <td>NaN</td>\n",
       "      <td>NaN</td>\n",
       "      <td>https://twitter.com/dog_rates/status/892420643...</td>\n",
       "      <td>13</td>\n",
       "      <td>10</td>\n",
       "      <td>Phineas</td>\n",
       "      <td>None</td>\n",
       "      <td>None</td>\n",
       "      <td>None</td>\n",
       "      <td>None</td>\n",
       "    </tr>\n",
       "    <tr>\n",
       "      <th>1</th>\n",
       "      <td>892177421306343426</td>\n",
       "      <td>NaN</td>\n",
       "      <td>NaN</td>\n",
       "      <td>2017-08-01 00:17:27 +0000</td>\n",
       "      <td>&lt;a href=\"http://twitter.com/download/iphone\" r...</td>\n",
       "      <td>This is Tilly. She's just checking pup on you....</td>\n",
       "      <td>NaN</td>\n",
       "      <td>NaN</td>\n",
       "      <td>NaN</td>\n",
       "      <td>https://twitter.com/dog_rates/status/892177421...</td>\n",
       "      <td>13</td>\n",
       "      <td>10</td>\n",
       "      <td>Tilly</td>\n",
       "      <td>None</td>\n",
       "      <td>None</td>\n",
       "      <td>None</td>\n",
       "      <td>None</td>\n",
       "    </tr>\n",
       "    <tr>\n",
       "      <th>2</th>\n",
       "      <td>891815181378084864</td>\n",
       "      <td>NaN</td>\n",
       "      <td>NaN</td>\n",
       "      <td>2017-07-31 00:18:03 +0000</td>\n",
       "      <td>&lt;a href=\"http://twitter.com/download/iphone\" r...</td>\n",
       "      <td>This is Archie. He is a rare Norwegian Pouncin...</td>\n",
       "      <td>NaN</td>\n",
       "      <td>NaN</td>\n",
       "      <td>NaN</td>\n",
       "      <td>https://twitter.com/dog_rates/status/891815181...</td>\n",
       "      <td>12</td>\n",
       "      <td>10</td>\n",
       "      <td>Archie</td>\n",
       "      <td>None</td>\n",
       "      <td>None</td>\n",
       "      <td>None</td>\n",
       "      <td>None</td>\n",
       "    </tr>\n",
       "    <tr>\n",
       "      <th>3</th>\n",
       "      <td>891689557279858688</td>\n",
       "      <td>NaN</td>\n",
       "      <td>NaN</td>\n",
       "      <td>2017-07-30 15:58:51 +0000</td>\n",
       "      <td>&lt;a href=\"http://twitter.com/download/iphone\" r...</td>\n",
       "      <td>This is Darla. She commenced a snooze mid meal...</td>\n",
       "      <td>NaN</td>\n",
       "      <td>NaN</td>\n",
       "      <td>NaN</td>\n",
       "      <td>https://twitter.com/dog_rates/status/891689557...</td>\n",
       "      <td>13</td>\n",
       "      <td>10</td>\n",
       "      <td>Darla</td>\n",
       "      <td>None</td>\n",
       "      <td>None</td>\n",
       "      <td>None</td>\n",
       "      <td>None</td>\n",
       "    </tr>\n",
       "    <tr>\n",
       "      <th>4</th>\n",
       "      <td>891327558926688256</td>\n",
       "      <td>NaN</td>\n",
       "      <td>NaN</td>\n",
       "      <td>2017-07-29 16:00:24 +0000</td>\n",
       "      <td>&lt;a href=\"http://twitter.com/download/iphone\" r...</td>\n",
       "      <td>This is Franklin. He would like you to stop ca...</td>\n",
       "      <td>NaN</td>\n",
       "      <td>NaN</td>\n",
       "      <td>NaN</td>\n",
       "      <td>https://twitter.com/dog_rates/status/891327558...</td>\n",
       "      <td>12</td>\n",
       "      <td>10</td>\n",
       "      <td>Franklin</td>\n",
       "      <td>None</td>\n",
       "      <td>None</td>\n",
       "      <td>None</td>\n",
       "      <td>None</td>\n",
       "    </tr>\n",
       "  </tbody>\n",
       "</table>\n",
       "</div>"
      ],
      "text/plain": [
       "             tweet_id  in_reply_to_status_id  in_reply_to_user_id  \\\n",
       "0  892420643555336193                    NaN                  NaN   \n",
       "1  892177421306343426                    NaN                  NaN   \n",
       "2  891815181378084864                    NaN                  NaN   \n",
       "3  891689557279858688                    NaN                  NaN   \n",
       "4  891327558926688256                    NaN                  NaN   \n",
       "\n",
       "                   timestamp  \\\n",
       "0  2017-08-01 16:23:56 +0000   \n",
       "1  2017-08-01 00:17:27 +0000   \n",
       "2  2017-07-31 00:18:03 +0000   \n",
       "3  2017-07-30 15:58:51 +0000   \n",
       "4  2017-07-29 16:00:24 +0000   \n",
       "\n",
       "                                              source  \\\n",
       "0  <a href=\"http://twitter.com/download/iphone\" r...   \n",
       "1  <a href=\"http://twitter.com/download/iphone\" r...   \n",
       "2  <a href=\"http://twitter.com/download/iphone\" r...   \n",
       "3  <a href=\"http://twitter.com/download/iphone\" r...   \n",
       "4  <a href=\"http://twitter.com/download/iphone\" r...   \n",
       "\n",
       "                                                text  retweeted_status_id  \\\n",
       "0  This is Phineas. He's a mystical boy. Only eve...                  NaN   \n",
       "1  This is Tilly. She's just checking pup on you....                  NaN   \n",
       "2  This is Archie. He is a rare Norwegian Pouncin...                  NaN   \n",
       "3  This is Darla. She commenced a snooze mid meal...                  NaN   \n",
       "4  This is Franklin. He would like you to stop ca...                  NaN   \n",
       "\n",
       "   retweeted_status_user_id retweeted_status_timestamp  \\\n",
       "0                       NaN                        NaN   \n",
       "1                       NaN                        NaN   \n",
       "2                       NaN                        NaN   \n",
       "3                       NaN                        NaN   \n",
       "4                       NaN                        NaN   \n",
       "\n",
       "                                       expanded_urls  rating_numerator  \\\n",
       "0  https://twitter.com/dog_rates/status/892420643...                13   \n",
       "1  https://twitter.com/dog_rates/status/892177421...                13   \n",
       "2  https://twitter.com/dog_rates/status/891815181...                12   \n",
       "3  https://twitter.com/dog_rates/status/891689557...                13   \n",
       "4  https://twitter.com/dog_rates/status/891327558...                12   \n",
       "\n",
       "   rating_denominator      name doggo floofer pupper puppo  \n",
       "0                  10   Phineas  None    None   None  None  \n",
       "1                  10     Tilly  None    None   None  None  \n",
       "2                  10    Archie  None    None   None  None  \n",
       "3                  10     Darla  None    None   None  None  \n",
       "4                  10  Franklin  None    None   None  None  "
      ]
     },
     "execution_count": 8,
     "metadata": {},
     "output_type": "execute_result"
    }
   ],
   "source": [
    "tweets_df.head(5)"
   ]
  },
  {
   "cell_type": "markdown",
   "id": "b00e8008",
   "metadata": {},
   "source": [
    "### 3. CLEANING DATA"
   ]
  },
  {
   "cell_type": "markdown",
   "id": "d0c6fa8d",
   "metadata": {},
   "source": [
    "#### QUALITY ISSUES \n",
    "##### Twitter Archive Enhanced Dataset \n",
    "- `time_stamp column:` values appended with unecessary '+0000' || erronous data type - object\n",
    "- `text_column`: missing substring of tweet url in some entries\n",
    "- `source column:` source value still contains html\n",
    "- `retweeted_status_user_id column:` id length is 10 chars, sometimes 9 chars\n",
    "- `retweeted_status_timestamp column:` values appended with unecessary '+0000' || erronous data type - object\n",
    "- `expanded_urls:` multiple urls in some entries || external (non-twitter & non-weratedogs) urls in some entries\n",
    "- `rating_numerator column:` some values are way below 10 - a possible error based on the rating system\n",
    "- `rating_denominator column:` some values are in the 20s to 100s - possible error based on rating system\n",
    "- `rating_denominator column:` some entries don't have 10 - have 0, 70, 7, 11 ...\n",
    "- `name column:`  'None' and single char non-name-like values for some entries || lower case names in som entries || language-specific accent symbols on some entries\n",
    "##### Images Prediction Dataset\n",
    "- `p1 column:` mixed captialized and lowercase values || words separeted by underscore instead of space\n",
    "- `p1_conf column:` inconsistent format of numbers - variable decimal points \n",
    "- `p2 column`: mixed captialized and lowercase values || words separeted by underscore instead of space\n",
    "- `p2_conf column:` inconsistent format of numbers - variable decimal points \n",
    "- `p3 column`: mixed captialized and lowercase values || words separeted by underscore instead of space\n",
    "- `p3_conf column:` inconsistent format of numbers - variable decimal points \n",
    "- `missing values:` 2075 rows instead of 2356 rows\n",
    "##### Tweets Meta Dataset\n",
    "- `tweet_id column:` inconsistent id lengths in some entries\n",
    "- `missing values:` 251 rows instead of 2356 rows\n",
    "\n",
    "#### TIDINESS ISSUES\n",
    "##### Twitter Archive Enhanced Dataset\n",
    "- `text column:` should be split into text and tweet_url\n",
    "- `tweets table && tweets_meta table:` merge two dataframes into one"
   ]
  },
  {
   "cell_type": "code",
   "execution_count": 2,
   "id": "c3ff3fb7",
   "metadata": {},
   "outputs": [
    {
     "ename": "NameError",
     "evalue": "name 'tweets_df' is not defined",
     "output_type": "error",
     "traceback": [
      "\u001b[1;31m\u001b[0m",
      "\u001b[1;31mNameError\u001b[0mTraceback (most recent call last)",
      "\u001b[1;32m<ipython-input-2-eb74ce601ce6>\u001b[0m in \u001b[0;36m<module>\u001b[1;34m()\u001b[0m\n\u001b[0;32m      1\u001b[0m \u001b[1;31m# Make copies of the original data\u001b[0m\u001b[1;33m\u001b[0m\u001b[1;33m\u001b[0m\u001b[0m\n\u001b[1;32m----> 2\u001b[1;33m \u001b[0mclean_tweets\u001b[0m \u001b[1;33m=\u001b[0m \u001b[0mtweets_df\u001b[0m\u001b[1;33m.\u001b[0m\u001b[0mcopy\u001b[0m\u001b[1;33m(\u001b[0m\u001b[1;33m)\u001b[0m\u001b[1;33m\u001b[0m\u001b[0m\n\u001b[0m\u001b[0;32m      3\u001b[0m \u001b[0mclean_images\u001b[0m \u001b[1;33m=\u001b[0m \u001b[0mimages_df\u001b[0m\u001b[1;33m.\u001b[0m\u001b[0mcopy\u001b[0m\u001b[1;33m(\u001b[0m\u001b[1;33m)\u001b[0m\u001b[1;33m\u001b[0m\u001b[0m\n\u001b[0;32m      4\u001b[0m \u001b[0mclean_tweets_meta\u001b[0m \u001b[1;33m=\u001b[0m \u001b[0mtweets_meta_df\u001b[0m\u001b[1;33m.\u001b[0m\u001b[0mcopy\u001b[0m\u001b[1;33m(\u001b[0m\u001b[1;33m)\u001b[0m\u001b[1;33m\u001b[0m\u001b[0m\n",
      "\u001b[1;31mNameError\u001b[0m: name 'tweets_df' is not defined"
     ]
    }
   ],
   "source": [
    "# Make copies of the original data\n",
    "clean_tweets = tweets_df.copy()\n",
    "clean_images = images_df.copy()\n",
    "clean_tweets_meta = tweets_meta_df.copy()"
   ]
  },
  {
   "cell_type": "markdown",
   "id": "badb28f2",
   "metadata": {},
   "source": [
    "Multiple URLs in the `expanded_urls` column in the tweets_df. In addition to that, some urls are external non-twitter urls, and some entries are empty."
   ]
  },
  {
   "cell_type": "markdown",
   "id": "b52c869f",
   "metadata": {},
   "source": [
    "<b>Define</b><br />\n",
    "Select on twitter url, if available or leave cell empty."
   ]
  },
  {
   "cell_type": "markdown",
   "id": "b52c869f",
   "metadata": {},
   "source": [
    "<b>Code</b>"
   ]
  },
  {
   "cell_type": "code",
   "execution_count": null,
   "id": "b83ec557",
   "metadata": {},
   "outputs": [],
   "source": [
    "for index, row in clean_tweets.iterrows():\n",
    "    if (clean_tweets.loc[index, 'expanded_urls']):\n",
    "        links = clean_tweets.loc[2, 'expanded_urls'].split(',')\n",
    "        for link in links:\n",
    "            if ('https://twitter.com/' in link):\n",
    "                clean_tweets.loc[index, 'expanded_urls'] = link\n",
    "                break\n",
    "            else:\n",
    "                continue\n",
    "    else:\n",
    "        clean_tweets.loc[index, 'expanded_urls'] = np.NaN"
   ]
  },
  {
   "cell_type": "markdown",
   "id": "b52c869f",
   "metadata": {},
   "source": [
    "<b>Test</b>"
   ]
  },
  {
   "cell_type": "code",
   "execution_count": 1,
   "id": "aac9edc0",
   "metadata": {},
   "outputs": [
    {
     "ename": "NameError",
     "evalue": "name 'clean_tweets' is not defined",
     "output_type": "error",
     "traceback": [
      "\u001b[1;31m\u001b[0m",
      "\u001b[1;31mNameError\u001b[0mTraceback (most recent call last)",
      "\u001b[1;32m<ipython-input-1-05db81582bca>\u001b[0m in \u001b[0;36m<module>\u001b[1;34m()\u001b[0m\n\u001b[1;32m----> 1\u001b[1;33m \u001b[0mclean_tweets\u001b[0m\u001b[1;33m.\u001b[0m\u001b[0mexpanded_urls\u001b[0m\u001b[1;33m.\u001b[0m\u001b[0msample\u001b[0m\u001b[1;33m(\u001b[0m\u001b[1;36m100\u001b[0m\u001b[1;33m)\u001b[0m\u001b[1;33m\u001b[0m\u001b[0m\n\u001b[0m",
      "\u001b[1;31mNameError\u001b[0m: name 'clean_tweets' is not defined"
     ]
    }
   ],
   "source": [
    "clean_tweets.expanded_urls.sample(100)"
   ]
  },
  {
   "cell_type": "markdown",
   "id": "9a3ded6f",
   "metadata": {},
   "source": [
    "Erroneous Data Type Object for `time stamp column` and the `retweeted_status_timestamp column` in the tweets_df and unecessary `+0000`"
   ]
  },
  {
   "cell_type": "markdown",
   "id": "9bbab841",
   "metadata": {},
   "source": [
    "<b>Define</b><br />\n",
    "Change the data types from Object to date and slice off the +0000 "
   ]
  },
  {
   "cell_type": "markdown",
   "id": "9725959d",
   "metadata": {},
   "source": [
    "<b>Code</b>"
   ]
  },
  {
   "cell_type": "code",
   "execution_count": null,
   "id": "313830c2",
   "metadata": {},
   "outputs": [],
   "source": [
    "for index, row in clean_tweets.iterrows():\n",
    "    if ('+' in clean_tweets.loc[index, 'timestamp']):\n",
    "        clean_tweets.loc[index, 'timestamp'] = row['timestamp'].split('+')[0]\n",
    "    else:\n",
    "        pass\n",
    "\n",
    "for index, row in clean_tweets.iterrows():\n",
    "    if ('+' in str(clean_tweets.loc[index, 'retweeted_status_timestamp'])):\n",
    "        clean_tweets.loc[index, 'retweeted_status_timestamp'] = str(row['retweeted_status_timestamp']).split('+')[0]\n",
    "    else:\n",
    "        pass\n",
    "\n",
    "clean_tweets['timestamp'] = pd.to_datetime(clean_tweets['timestamp'])\n",
    "\n",
    "clean_tweets['retweeted_status_timestamp'] = pd.to_datetime(clean_tweets['retweeted_status_timestamp'])"
   ]
  },
  {
   "cell_type": "markdown",
   "id": "5d7c0c84",
   "metadata": {},
   "source": [
    "<b>Test</b><br />"
   ]
  },
  {
   "cell_type": "code",
   "execution_count": 88,
   "id": "fed3592e",
   "metadata": {},
   "outputs": [
    {
     "data": {
      "text/plain": [
       "2051   2015-12-01 00:38:31\n",
       "1949   2015-12-07 02:25:23\n",
       "675    2016-10-21 18:16:44\n",
       "1174   2016-04-13 01:22:10\n",
       "346    2017-02-15 18:03:45\n",
       "Name: timestamp, dtype: datetime64[ns]"
      ]
     },
     "execution_count": 88,
     "metadata": {},
     "output_type": "execute_result"
    }
   ],
   "source": [
    "clean_tweets['timestamp'].sample(5)"
   ]
  },
  {
   "cell_type": "code",
   "execution_count": 87,
   "id": "21cd75e9",
   "metadata": {},
   "outputs": [
    {
     "data": {
      "text/plain": [
       "406    2016-10-06 15:49:14\n",
       "1491                   NaT\n",
       "1230                   NaT\n",
       "759    2016-02-26 02:20:37\n",
       "2061                   NaT\n",
       "Name: retweeted_status_timestamp, dtype: datetime64[ns]"
      ]
     },
     "execution_count": 87,
     "metadata": {},
     "output_type": "execute_result"
    }
   ],
   "source": [
    "clean_tweets['retweeted_status_timestamp'].sample(5)"
   ]
  },
  {
   "cell_type": "markdown",
   "id": "8ec306f5",
   "metadata": {},
   "source": [
    "`Source column` in tweets_df contains html"
   ]
  },
  {
   "cell_type": "markdown",
   "id": "d5d8859d",
   "metadata": {},
   "source": [
    "<b>Define</b><br />\n",
    "Strip out the html content from the value"
   ]
  },
  {
   "cell_type": "markdown",
   "id": "7beeec12",
   "metadata": {},
   "source": [
    "<b>Code<b/>"
   ]
  },
  {
   "cell_type": "code",
   "execution_count": null,
   "id": "df6af78c",
   "metadata": {},
   "outputs": [],
   "source": [
    "for index, row in clean_tweets.iterrows():\n",
    "    if (clean_tweets.loc[index, 'source']):\n",
    "        soup = BeautifulSoup(clean_tweets.loc[index, 'source'])\n",
    "        clean_tweets.loc[index, 'source'] = soup.find('a').text\n",
    "    else:\n",
    "        pass"
   ]
  },
  {
   "cell_type": "markdown",
   "id": "53fc590b",
   "metadata": {},
   "source": [
    "<b>Test</b>"
   ]
  },
  {
   "cell_type": "code",
   "execution_count": 109,
   "id": "6cb0c9d7",
   "metadata": {},
   "outputs": [
    {
     "data": {
      "text/html": [
       "<div>\n",
       "<style scoped>\n",
       "    .dataframe tbody tr th:only-of-type {\n",
       "        vertical-align: middle;\n",
       "    }\n",
       "\n",
       "    .dataframe tbody tr th {\n",
       "        vertical-align: top;\n",
       "    }\n",
       "\n",
       "    .dataframe thead th {\n",
       "        text-align: right;\n",
       "    }\n",
       "</style>\n",
       "<table border=\"1\" class=\"dataframe\">\n",
       "  <thead>\n",
       "    <tr style=\"text-align: right;\">\n",
       "      <th></th>\n",
       "      <th>tweet_id</th>\n",
       "      <th>in_reply_to_status_id</th>\n",
       "      <th>in_reply_to_user_id</th>\n",
       "      <th>timestamp</th>\n",
       "      <th>source</th>\n",
       "      <th>text</th>\n",
       "      <th>retweeted_status_id</th>\n",
       "      <th>retweeted_status_user_id</th>\n",
       "      <th>retweeted_status_timestamp</th>\n",
       "      <th>expanded_urls</th>\n",
       "      <th>rating_numerator</th>\n",
       "      <th>rating_denominator</th>\n",
       "      <th>name</th>\n",
       "      <th>doggo</th>\n",
       "      <th>floofer</th>\n",
       "      <th>pupper</th>\n",
       "      <th>puppo</th>\n",
       "    </tr>\n",
       "  </thead>\n",
       "  <tbody>\n",
       "    <tr>\n",
       "      <th>397</th>\n",
       "      <td>825120256414846976</td>\n",
       "      <td>NaN</td>\n",
       "      <td>NaN</td>\n",
       "      <td>2017-01-27 23:16:13 +0000</td>\n",
       "      <td>Twitter for iPhone</td>\n",
       "      <td>RT @dog_rates: Say hello to Pablo. He's one go...</td>\n",
       "      <td>8.250266e+17</td>\n",
       "      <td>4.196984e+09</td>\n",
       "      <td>2017-01-27 17:04:02 +0000</td>\n",
       "      <td>https://www.gofundme.com/my-puppys-double-cata...</td>\n",
       "      <td>12</td>\n",
       "      <td>10</td>\n",
       "      <td>Pablo</td>\n",
       "      <td>None</td>\n",
       "      <td>None</td>\n",
       "      <td>None</td>\n",
       "      <td>puppo</td>\n",
       "    </tr>\n",
       "    <tr>\n",
       "      <th>1629</th>\n",
       "      <td>684567543613382656</td>\n",
       "      <td>NaN</td>\n",
       "      <td>NaN</td>\n",
       "      <td>2016-01-06 02:49:55 +0000</td>\n",
       "      <td>Twitter for iPhone</td>\n",
       "      <td>This is Bobby. He doesn't give a damn about pe...</td>\n",
       "      <td>NaN</td>\n",
       "      <td>NaN</td>\n",
       "      <td>NaN</td>\n",
       "      <td>https://twitter.com/dog_rates/status/684567543...</td>\n",
       "      <td>4</td>\n",
       "      <td>10</td>\n",
       "      <td>Bobby</td>\n",
       "      <td>None</td>\n",
       "      <td>None</td>\n",
       "      <td>None</td>\n",
       "      <td>None</td>\n",
       "    </tr>\n",
       "    <tr>\n",
       "      <th>867</th>\n",
       "      <td>761976711479193600</td>\n",
       "      <td>NaN</td>\n",
       "      <td>NaN</td>\n",
       "      <td>2016-08-06 17:26:19 +0000</td>\n",
       "      <td>Twitter for iPhone</td>\n",
       "      <td>This is Shelby. She finds stuff to put on her ...</td>\n",
       "      <td>NaN</td>\n",
       "      <td>NaN</td>\n",
       "      <td>NaN</td>\n",
       "      <td>https://twitter.com/dog_rates/status/761976711...</td>\n",
       "      <td>12</td>\n",
       "      <td>10</td>\n",
       "      <td>Shelby</td>\n",
       "      <td>None</td>\n",
       "      <td>None</td>\n",
       "      <td>None</td>\n",
       "      <td>None</td>\n",
       "    </tr>\n",
       "    <tr>\n",
       "      <th>2331</th>\n",
       "      <td>666353288456101888</td>\n",
       "      <td>NaN</td>\n",
       "      <td>NaN</td>\n",
       "      <td>2015-11-16 20:32:58 +0000</td>\n",
       "      <td>Twitter for iPhone</td>\n",
       "      <td>Here we have a mixed Asiago from the Galápagos...</td>\n",
       "      <td>NaN</td>\n",
       "      <td>NaN</td>\n",
       "      <td>NaN</td>\n",
       "      <td>https://twitter.com/dog_rates/status/666353288...</td>\n",
       "      <td>8</td>\n",
       "      <td>10</td>\n",
       "      <td>None</td>\n",
       "      <td>None</td>\n",
       "      <td>None</td>\n",
       "      <td>None</td>\n",
       "      <td>None</td>\n",
       "    </tr>\n",
       "    <tr>\n",
       "      <th>1069</th>\n",
       "      <td>740365076218183684</td>\n",
       "      <td>NaN</td>\n",
       "      <td>NaN</td>\n",
       "      <td>2016-06-08 02:09:24 +0000</td>\n",
       "      <td>Twitter for iPhone</td>\n",
       "      <td>When the photographer forgets to tell you wher...</td>\n",
       "      <td>NaN</td>\n",
       "      <td>NaN</td>\n",
       "      <td>NaN</td>\n",
       "      <td>https://twitter.com/dog_rates/status/740365076...</td>\n",
       "      <td>10</td>\n",
       "      <td>10</td>\n",
       "      <td>None</td>\n",
       "      <td>None</td>\n",
       "      <td>None</td>\n",
       "      <td>None</td>\n",
       "      <td>None</td>\n",
       "    </tr>\n",
       "  </tbody>\n",
       "</table>\n",
       "</div>"
      ],
      "text/plain": [
       "                tweet_id  in_reply_to_status_id  in_reply_to_user_id  \\\n",
       "397   825120256414846976                    NaN                  NaN   \n",
       "1629  684567543613382656                    NaN                  NaN   \n",
       "867   761976711479193600                    NaN                  NaN   \n",
       "2331  666353288456101888                    NaN                  NaN   \n",
       "1069  740365076218183684                    NaN                  NaN   \n",
       "\n",
       "                      timestamp              source  \\\n",
       "397   2017-01-27 23:16:13 +0000  Twitter for iPhone   \n",
       "1629  2016-01-06 02:49:55 +0000  Twitter for iPhone   \n",
       "867   2016-08-06 17:26:19 +0000  Twitter for iPhone   \n",
       "2331  2015-11-16 20:32:58 +0000  Twitter for iPhone   \n",
       "1069  2016-06-08 02:09:24 +0000  Twitter for iPhone   \n",
       "\n",
       "                                                   text  retweeted_status_id  \\\n",
       "397   RT @dog_rates: Say hello to Pablo. He's one go...         8.250266e+17   \n",
       "1629  This is Bobby. He doesn't give a damn about pe...                  NaN   \n",
       "867   This is Shelby. She finds stuff to put on her ...                  NaN   \n",
       "2331  Here we have a mixed Asiago from the Galápagos...                  NaN   \n",
       "1069  When the photographer forgets to tell you wher...                  NaN   \n",
       "\n",
       "      retweeted_status_user_id retweeted_status_timestamp  \\\n",
       "397               4.196984e+09  2017-01-27 17:04:02 +0000   \n",
       "1629                       NaN                        NaN   \n",
       "867                        NaN                        NaN   \n",
       "2331                       NaN                        NaN   \n",
       "1069                       NaN                        NaN   \n",
       "\n",
       "                                          expanded_urls  rating_numerator  \\\n",
       "397   https://www.gofundme.com/my-puppys-double-cata...                12   \n",
       "1629  https://twitter.com/dog_rates/status/684567543...                 4   \n",
       "867   https://twitter.com/dog_rates/status/761976711...                12   \n",
       "2331  https://twitter.com/dog_rates/status/666353288...                 8   \n",
       "1069  https://twitter.com/dog_rates/status/740365076...                10   \n",
       "\n",
       "      rating_denominator    name doggo floofer pupper  puppo  \n",
       "397                   10   Pablo  None    None   None  puppo  \n",
       "1629                  10   Bobby  None    None   None   None  \n",
       "867                   10  Shelby  None    None   None   None  \n",
       "2331                  10    None  None    None   None   None  \n",
       "1069                  10    None  None    None   None   None  "
      ]
     },
     "execution_count": 109,
     "metadata": {},
     "output_type": "execute_result"
    }
   ],
   "source": [
    "clean_tweets.sample(5)"
   ]
  },
  {
   "cell_type": "markdown",
   "id": "a7e3a4e3",
   "metadata": {},
   "source": [
    "<b>Tidiness</b>"
   ]
  },
  {
   "cell_type": "markdown",
   "id": "b52c869f",
   "metadata": {},
   "source": [
    "Text column in `tweets table` contains two variables: text and tweet_url"
   ]
  },
  {
   "cell_type": "markdown",
   "id": "b52c869f",
   "metadata": {},
   "source": [
    "<b>Define</b> <br />\n",
    "Extract the <i>tweet_text</i> and <i>tweet_url</i> variables from the text column using regular expressions and the python `str.split()` method. Use an if-else conditional check when chcking url substring, since some rows are empty."
   ]
  },
  {
   "cell_type": "markdown",
   "id": "b52c869f",
   "metadata": {},
   "source": [
    "<b>Code</b>"
   ]
  },
  {
   "cell_type": "code",
   "execution_count": 111,
   "id": "a636026c",
   "metadata": {},
   "outputs": [],
   "source": [
    "tweet_text_list = []\n",
    "tweet_url_list = []\n",
    "\n",
    "for index, row in clean_tweets.iterrows():\n",
    "    try:\n",
    "        if ('https://' in clean_tweets.loc[index, 'text']):\n",
    "            tweet_text_list.append(clean_tweets.loc[index, 'text'].split('https://')[0])\n",
    "            tweet_url_list.append('https://' + clean_tweets.loc[index, 'text'].split('https://')[1])\n",
    "        else:\n",
    "            tweet_text_list.append('')\n",
    "            tweet_url_list.append('')\n",
    "    except:\n",
    "        pass\n",
    "\n",
    "clean_tweets['tweet_text'] = tweet_text_list\n",
    "clean_tweets['tweet_url'] = tweet_url_list\n",
    "clean_tweets = clean_tweets.drop('text', axis=1)"
   ]
  },
  {
   "cell_type": "markdown",
   "id": "b52c869f",
   "metadata": {},
   "source": [
    "<b>Test</b>"
   ]
  },
  {
   "cell_type": "code",
   "execution_count": 112,
   "id": "6edb4899",
   "metadata": {},
   "outputs": [
    {
     "data": {
      "text/html": [
       "<div>\n",
       "<style scoped>\n",
       "    .dataframe tbody tr th:only-of-type {\n",
       "        vertical-align: middle;\n",
       "    }\n",
       "\n",
       "    .dataframe tbody tr th {\n",
       "        vertical-align: top;\n",
       "    }\n",
       "\n",
       "    .dataframe thead th {\n",
       "        text-align: right;\n",
       "    }\n",
       "</style>\n",
       "<table border=\"1\" class=\"dataframe\">\n",
       "  <thead>\n",
       "    <tr style=\"text-align: right;\">\n",
       "      <th></th>\n",
       "      <th>tweet_id</th>\n",
       "      <th>in_reply_to_status_id</th>\n",
       "      <th>in_reply_to_user_id</th>\n",
       "      <th>timestamp</th>\n",
       "      <th>source</th>\n",
       "      <th>retweeted_status_id</th>\n",
       "      <th>retweeted_status_user_id</th>\n",
       "      <th>retweeted_status_timestamp</th>\n",
       "      <th>expanded_urls</th>\n",
       "      <th>rating_numerator</th>\n",
       "      <th>rating_denominator</th>\n",
       "      <th>name</th>\n",
       "      <th>doggo</th>\n",
       "      <th>floofer</th>\n",
       "      <th>pupper</th>\n",
       "      <th>puppo</th>\n",
       "      <th>tweet_text</th>\n",
       "      <th>tweet_url</th>\n",
       "    </tr>\n",
       "  </thead>\n",
       "  <tbody>\n",
       "    <tr>\n",
       "      <th>1321</th>\n",
       "      <td>706310011488698368</td>\n",
       "      <td>NaN</td>\n",
       "      <td>NaN</td>\n",
       "      <td>2016-03-06 02:46:44 +0000</td>\n",
       "      <td>Twitter for iPhone</td>\n",
       "      <td>NaN</td>\n",
       "      <td>NaN</td>\n",
       "      <td>NaN</td>\n",
       "      <td>https://twitter.com/dog_rates/status/706310011...</td>\n",
       "      <td>12</td>\n",
       "      <td>10</td>\n",
       "      <td>None</td>\n",
       "      <td>None</td>\n",
       "      <td>None</td>\n",
       "      <td>pupper</td>\n",
       "      <td>None</td>\n",
       "      <td>Here's a very sleepy pupper. Thinks it's an ai...</td>\n",
       "      <td>https://t.co/GGmcTIkBbf</td>\n",
       "    </tr>\n",
       "    <tr>\n",
       "      <th>2140</th>\n",
       "      <td>670003130994700288</td>\n",
       "      <td>NaN</td>\n",
       "      <td>NaN</td>\n",
       "      <td>2015-11-26 22:16:09 +0000</td>\n",
       "      <td>Twitter for iPhone</td>\n",
       "      <td>NaN</td>\n",
       "      <td>NaN</td>\n",
       "      <td>NaN</td>\n",
       "      <td>https://twitter.com/dog_rates/status/670003130...</td>\n",
       "      <td>10</td>\n",
       "      <td>10</td>\n",
       "      <td>Raphael</td>\n",
       "      <td>None</td>\n",
       "      <td>None</td>\n",
       "      <td>None</td>\n",
       "      <td>None</td>\n",
       "      <td>This is Raphael. He is a Baskerville Conquista...</td>\n",
       "      <td>https://t.co/3NTykJmtHt</td>\n",
       "    </tr>\n",
       "    <tr>\n",
       "      <th>457</th>\n",
       "      <td>818145370475810820</td>\n",
       "      <td>NaN</td>\n",
       "      <td>NaN</td>\n",
       "      <td>2017-01-08 17:20:31 +0000</td>\n",
       "      <td>Twitter for iPhone</td>\n",
       "      <td>NaN</td>\n",
       "      <td>NaN</td>\n",
       "      <td>NaN</td>\n",
       "      <td>https://twitter.com/dog_rates/status/818145370...</td>\n",
       "      <td>11</td>\n",
       "      <td>10</td>\n",
       "      <td>Autumn</td>\n",
       "      <td>None</td>\n",
       "      <td>None</td>\n",
       "      <td>None</td>\n",
       "      <td>None</td>\n",
       "      <td>This is Autumn. Her favorite toy is a cheesebu...</td>\n",
       "      <td>https://t.co/JlPug12E5Z</td>\n",
       "    </tr>\n",
       "    <tr>\n",
       "      <th>629</th>\n",
       "      <td>794355576146903043</td>\n",
       "      <td>NaN</td>\n",
       "      <td>NaN</td>\n",
       "      <td>2016-11-04 01:48:22 +0000</td>\n",
       "      <td>Twitter for iPhone</td>\n",
       "      <td>7.887659e+17</td>\n",
       "      <td>4.196984e+09</td>\n",
       "      <td>2016-10-19 15:37:03 +0000</td>\n",
       "      <td>https://twitter.com/dog_rates/status/788765914...</td>\n",
       "      <td>12</td>\n",
       "      <td>10</td>\n",
       "      <td>Butter</td>\n",
       "      <td>None</td>\n",
       "      <td>None</td>\n",
       "      <td>None</td>\n",
       "      <td>None</td>\n",
       "      <td>RT @dog_rates: This is Butter. She can have wh...</td>\n",
       "      <td>https://t.co/x5gXRS1abq</td>\n",
       "    </tr>\n",
       "    <tr>\n",
       "      <th>314</th>\n",
       "      <td>835172783151792128</td>\n",
       "      <td>NaN</td>\n",
       "      <td>NaN</td>\n",
       "      <td>2017-02-24 17:01:22 +0000</td>\n",
       "      <td>Twitter for iPhone</td>\n",
       "      <td>NaN</td>\n",
       "      <td>NaN</td>\n",
       "      <td>NaN</td>\n",
       "      <td>https://twitter.com/dog_rates/status/835172783...</td>\n",
       "      <td>12</td>\n",
       "      <td>10</td>\n",
       "      <td>None</td>\n",
       "      <td>None</td>\n",
       "      <td>None</td>\n",
       "      <td>None</td>\n",
       "      <td>None</td>\n",
       "      <td>We only rate dogs. Please don't send in any no...</td>\n",
       "      <td>https://t.co/8fX2VkExnL</td>\n",
       "    </tr>\n",
       "  </tbody>\n",
       "</table>\n",
       "</div>"
      ],
      "text/plain": [
       "                tweet_id  in_reply_to_status_id  in_reply_to_user_id  \\\n",
       "1321  706310011488698368                    NaN                  NaN   \n",
       "2140  670003130994700288                    NaN                  NaN   \n",
       "457   818145370475810820                    NaN                  NaN   \n",
       "629   794355576146903043                    NaN                  NaN   \n",
       "314   835172783151792128                    NaN                  NaN   \n",
       "\n",
       "                      timestamp              source  retweeted_status_id  \\\n",
       "1321  2016-03-06 02:46:44 +0000  Twitter for iPhone                  NaN   \n",
       "2140  2015-11-26 22:16:09 +0000  Twitter for iPhone                  NaN   \n",
       "457   2017-01-08 17:20:31 +0000  Twitter for iPhone                  NaN   \n",
       "629   2016-11-04 01:48:22 +0000  Twitter for iPhone         7.887659e+17   \n",
       "314   2017-02-24 17:01:22 +0000  Twitter for iPhone                  NaN   \n",
       "\n",
       "      retweeted_status_user_id retweeted_status_timestamp  \\\n",
       "1321                       NaN                        NaN   \n",
       "2140                       NaN                        NaN   \n",
       "457                        NaN                        NaN   \n",
       "629               4.196984e+09  2016-10-19 15:37:03 +0000   \n",
       "314                        NaN                        NaN   \n",
       "\n",
       "                                          expanded_urls  rating_numerator  \\\n",
       "1321  https://twitter.com/dog_rates/status/706310011...                12   \n",
       "2140  https://twitter.com/dog_rates/status/670003130...                10   \n",
       "457   https://twitter.com/dog_rates/status/818145370...                11   \n",
       "629   https://twitter.com/dog_rates/status/788765914...                12   \n",
       "314   https://twitter.com/dog_rates/status/835172783...                12   \n",
       "\n",
       "      rating_denominator     name doggo floofer  pupper puppo  \\\n",
       "1321                  10     None  None    None  pupper  None   \n",
       "2140                  10  Raphael  None    None    None  None   \n",
       "457                   10   Autumn  None    None    None  None   \n",
       "629                   10   Butter  None    None    None  None   \n",
       "314                   10     None  None    None    None  None   \n",
       "\n",
       "                                             tweet_text  \\\n",
       "1321  Here's a very sleepy pupper. Thinks it's an ai...   \n",
       "2140  This is Raphael. He is a Baskerville Conquista...   \n",
       "457   This is Autumn. Her favorite toy is a cheesebu...   \n",
       "629   RT @dog_rates: This is Butter. She can have wh...   \n",
       "314   We only rate dogs. Please don't send in any no...   \n",
       "\n",
       "                    tweet_url  \n",
       "1321  https://t.co/GGmcTIkBbf  \n",
       "2140  https://t.co/3NTykJmtHt  \n",
       "457   https://t.co/JlPug12E5Z  \n",
       "629   https://t.co/x5gXRS1abq  \n",
       "314   https://t.co/8fX2VkExnL  "
      ]
     },
     "execution_count": 112,
     "metadata": {},
     "output_type": "execute_result"
    }
   ],
   "source": [
    "clean_tweets.sample(5)"
   ]
  }
 ],
 "metadata": {
  "kernelspec": {
   "display_name": "Python 3 (ipykernel)",
   "language": "python",
   "name": "python3"
  },
  "language_info": {
   "codemirror_mode": {
    "name": "ipython",
    "version": 3
   },
   "file_extension": ".py",
   "mimetype": "text/x-python",
   "name": "python",
   "nbconvert_exporter": "python",
   "pygments_lexer": "ipython3",
   "version": "2.7.16"
  },
  "vscode": {
   "interpreter": {
    "hash": "1f2daa915e70b35fca5ee9e57df5533dec161acca5d52eb384ff2606b793a0f3"
   }
  }
 },
 "nbformat": 4,
 "nbformat_minor": 5
}
