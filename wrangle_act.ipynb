{
 "cells": [
  {
   "cell_type": "markdown",
   "id": "4e305c7a",
   "metadata": {},
   "source": [
    "## DATA WRANGLING - @WERATEDOGS DATASET"
   ]
  },
  {
   "cell_type": "code",
   "execution_count": 226,
   "id": "2808bb7d",
   "metadata": {},
   "outputs": [],
   "source": [
    "# import installed packages\n",
    "import pandas as pd\n",
    "import numpy as np\n",
    "import requests\n",
    "import json\n",
    "import tweepy\n",
    "from tweepy import OAuthHandler\n",
    "from bs4 import BeautifulSoup\n",
    "import seaborn as sns\n",
    "import matplotlib.pyplot as plt\n",
    "%matplotlib inline"
   ]
  },
  {
   "cell_type": "code",
   "execution_count": 175,
   "id": "d5eb2ad6",
   "metadata": {},
   "outputs": [],
   "source": [
    "# setup tweepy\n",
    "_consumer_key = ''\n",
    "_consumer_secret = ''\n",
    "_access_token = ''\n",
    "_access_token_secret = ''\n",
    "\n",
    "with open('auth_keys.txt', 'r') as auth_keys:\n",
    "    try:\n",
    "        _consumer_key = auth_keys.readline().split('\"')[1:-1][0]\n",
    "        _consumer_secret = auth_keys.readline().split('\"')[1:-1][0]\n",
    "        _access_token = auth_keys.readline().split('\"')[1:-1][0]\n",
    "        _access_token_secret = auth_keys.readline().split('\"')[1:-1][0]\n",
    "    except:\n",
    "        raise Exception('Error: auth_keys.txt is missing or keys not found in source.')\n",
    "\n",
    "auth = OAuthHandler(_consumer_key, _consumer_secret)\n",
    "auth.set_access_token(_access_token, _access_token_secret)\n",
    "api = tweepy.API(auth, wait_on_rate_limit=True)"
   ]
  },
  {
   "cell_type": "code",
   "execution_count": 176,
   "id": "8dcf85d3",
   "metadata": {},
   "outputs": [],
   "source": [
    "# reusable functions\n",
    "def get_image_predictions_tsv():\n",
    "    url = \" https://d17h27t6h515a5.cloudfront.net/topher/2017/August/599fd2ad_image-predictions/image-predictions.tsv\"\n",
    "    response = requests.get(url)\n",
    "    with open('image-predictions.tsv', 'wb') as file:\n",
    "        file.write(response.content)    "
   ]
  },
  {
   "cell_type": "markdown",
   "id": "21a642e0",
   "metadata": {},
   "source": [
    "### 1. GATHERING DATA"
   ]
  },
  {
   "cell_type": "code",
   "execution_count": 177,
   "id": "cc3f2d72",
   "metadata": {},
   "outputs": [],
   "source": [
    "# Gather data from memory\n",
    "tweets_df = pd.read_csv(\"twitter-archive-enhanced.csv\")\n",
    "images_df = pd.read_csv(\"image-predictions.tsv\", sep=\"\\t\")"
   ]
  },
  {
   "cell_type": "code",
   "execution_count": 178,
   "id": "3c1b5edb",
   "metadata": {},
   "outputs": [],
   "source": [
    "# Get each tweet's status string using Tweepy \n",
    "with open('tweet_json.txt', mode='a') as file:\n",
    "        for tweet_id in tweets_df['tweet_id']:\n",
    "            try:\n",
    "                tweet = api.get_status(tweet_id, tweet_mode='extended')\n",
    "                json.dump(tweet._json, file)\n",
    "                file.write('\\n')\n",
    "                # print(tweet_status + '\\n\\n')\n",
    "            except:\n",
    "                continue\n",
    "\n",
    "# Create a DataFrame with tweet_id, retweet_count and favorite_count for each tweet\n",
    "twitter_data_list = []\n",
    "\n",
    "for line in open('tweet_json.txt', 'r'):\n",
    "    twitter_data = json.loads(line)\n",
    "    twitter_data_list.append({\n",
    "        'tweet_id': twitter_data['id_str'],\n",
    "        'retweet_count': twitter_data['retweet_count'],\n",
    "        'favorite_count': twitter_data['favorite_count']\n",
    "    })"
   ]
  },
  {
   "cell_type": "code",
   "execution_count": 179,
   "id": "54b79c65",
   "metadata": {},
   "outputs": [],
   "source": [
    "tweets_meta_df = pd.DataFrame(twitter_data_list, columns=['tweet_id', 'retweet_count', 'favorite_count'])"
   ]
  },
  {
   "cell_type": "markdown",
   "id": "6530de6f",
   "metadata": {},
   "source": [
    "### 2. ASSESS"
   ]
  },
  {
   "cell_type": "code",
   "execution_count": 180,
   "id": "df3d8f8c",
   "metadata": {},
   "outputs": [
    {
     "name": "stdout",
     "output_type": "stream",
     "text": [
      "<class 'pandas.core.frame.DataFrame'>\n",
      "RangeIndex: 2356 entries, 0 to 2355\n",
      "Data columns (total 17 columns):\n",
      "tweet_id                      2356 non-null int64\n",
      "in_reply_to_status_id         78 non-null float64\n",
      "in_reply_to_user_id           78 non-null float64\n",
      "timestamp                     2356 non-null object\n",
      "source                        2356 non-null object\n",
      "text                          2356 non-null object\n",
      "retweeted_status_id           181 non-null float64\n",
      "retweeted_status_user_id      181 non-null float64\n",
      "retweeted_status_timestamp    181 non-null object\n",
      "expanded_urls                 2297 non-null object\n",
      "rating_numerator              2356 non-null int64\n",
      "rating_denominator            2356 non-null int64\n",
      "name                          2356 non-null object\n",
      "doggo                         2356 non-null object\n",
      "floofer                       2356 non-null object\n",
      "pupper                        2356 non-null object\n",
      "puppo                         2356 non-null object\n",
      "dtypes: float64(4), int64(3), object(10)\n",
      "memory usage: 313.0+ KB\n"
     ]
    }
   ],
   "source": [
    "tweets_df.info()"
   ]
  },
  {
   "cell_type": "code",
   "execution_count": 181,
   "id": "1e5a1808",
   "metadata": {},
   "outputs": [
    {
     "data": {
      "text/html": [
       "<div>\n",
       "<style scoped>\n",
       "    .dataframe tbody tr th:only-of-type {\n",
       "        vertical-align: middle;\n",
       "    }\n",
       "\n",
       "    .dataframe tbody tr th {\n",
       "        vertical-align: top;\n",
       "    }\n",
       "\n",
       "    .dataframe thead th {\n",
       "        text-align: right;\n",
       "    }\n",
       "</style>\n",
       "<table border=\"1\" class=\"dataframe\">\n",
       "  <thead>\n",
       "    <tr style=\"text-align: right;\">\n",
       "      <th></th>\n",
       "      <th>tweet_id</th>\n",
       "      <th>in_reply_to_status_id</th>\n",
       "      <th>in_reply_to_user_id</th>\n",
       "      <th>timestamp</th>\n",
       "      <th>source</th>\n",
       "      <th>text</th>\n",
       "      <th>retweeted_status_id</th>\n",
       "      <th>retweeted_status_user_id</th>\n",
       "      <th>retweeted_status_timestamp</th>\n",
       "      <th>expanded_urls</th>\n",
       "      <th>rating_numerator</th>\n",
       "      <th>rating_denominator</th>\n",
       "      <th>name</th>\n",
       "      <th>doggo</th>\n",
       "      <th>floofer</th>\n",
       "      <th>pupper</th>\n",
       "      <th>puppo</th>\n",
       "    </tr>\n",
       "  </thead>\n",
       "  <tbody>\n",
       "    <tr>\n",
       "      <th>0</th>\n",
       "      <td>892420643555336193</td>\n",
       "      <td>NaN</td>\n",
       "      <td>NaN</td>\n",
       "      <td>2017-08-01 16:23:56 +0000</td>\n",
       "      <td>&lt;a href=\"http://twitter.com/download/iphone\" r...</td>\n",
       "      <td>This is Phineas. He's a mystical boy. Only eve...</td>\n",
       "      <td>NaN</td>\n",
       "      <td>NaN</td>\n",
       "      <td>NaN</td>\n",
       "      <td>https://twitter.com/dog_rates/status/892420643...</td>\n",
       "      <td>13</td>\n",
       "      <td>10</td>\n",
       "      <td>Phineas</td>\n",
       "      <td>None</td>\n",
       "      <td>None</td>\n",
       "      <td>None</td>\n",
       "      <td>None</td>\n",
       "    </tr>\n",
       "    <tr>\n",
       "      <th>1</th>\n",
       "      <td>892177421306343426</td>\n",
       "      <td>NaN</td>\n",
       "      <td>NaN</td>\n",
       "      <td>2017-08-01 00:17:27 +0000</td>\n",
       "      <td>&lt;a href=\"http://twitter.com/download/iphone\" r...</td>\n",
       "      <td>This is Tilly. She's just checking pup on you....</td>\n",
       "      <td>NaN</td>\n",
       "      <td>NaN</td>\n",
       "      <td>NaN</td>\n",
       "      <td>https://twitter.com/dog_rates/status/892177421...</td>\n",
       "      <td>13</td>\n",
       "      <td>10</td>\n",
       "      <td>Tilly</td>\n",
       "      <td>None</td>\n",
       "      <td>None</td>\n",
       "      <td>None</td>\n",
       "      <td>None</td>\n",
       "    </tr>\n",
       "    <tr>\n",
       "      <th>2</th>\n",
       "      <td>891815181378084864</td>\n",
       "      <td>NaN</td>\n",
       "      <td>NaN</td>\n",
       "      <td>2017-07-31 00:18:03 +0000</td>\n",
       "      <td>&lt;a href=\"http://twitter.com/download/iphone\" r...</td>\n",
       "      <td>This is Archie. He is a rare Norwegian Pouncin...</td>\n",
       "      <td>NaN</td>\n",
       "      <td>NaN</td>\n",
       "      <td>NaN</td>\n",
       "      <td>https://twitter.com/dog_rates/status/891815181...</td>\n",
       "      <td>12</td>\n",
       "      <td>10</td>\n",
       "      <td>Archie</td>\n",
       "      <td>None</td>\n",
       "      <td>None</td>\n",
       "      <td>None</td>\n",
       "      <td>None</td>\n",
       "    </tr>\n",
       "    <tr>\n",
       "      <th>3</th>\n",
       "      <td>891689557279858688</td>\n",
       "      <td>NaN</td>\n",
       "      <td>NaN</td>\n",
       "      <td>2017-07-30 15:58:51 +0000</td>\n",
       "      <td>&lt;a href=\"http://twitter.com/download/iphone\" r...</td>\n",
       "      <td>This is Darla. She commenced a snooze mid meal...</td>\n",
       "      <td>NaN</td>\n",
       "      <td>NaN</td>\n",
       "      <td>NaN</td>\n",
       "      <td>https://twitter.com/dog_rates/status/891689557...</td>\n",
       "      <td>13</td>\n",
       "      <td>10</td>\n",
       "      <td>Darla</td>\n",
       "      <td>None</td>\n",
       "      <td>None</td>\n",
       "      <td>None</td>\n",
       "      <td>None</td>\n",
       "    </tr>\n",
       "    <tr>\n",
       "      <th>4</th>\n",
       "      <td>891327558926688256</td>\n",
       "      <td>NaN</td>\n",
       "      <td>NaN</td>\n",
       "      <td>2017-07-29 16:00:24 +0000</td>\n",
       "      <td>&lt;a href=\"http://twitter.com/download/iphone\" r...</td>\n",
       "      <td>This is Franklin. He would like you to stop ca...</td>\n",
       "      <td>NaN</td>\n",
       "      <td>NaN</td>\n",
       "      <td>NaN</td>\n",
       "      <td>https://twitter.com/dog_rates/status/891327558...</td>\n",
       "      <td>12</td>\n",
       "      <td>10</td>\n",
       "      <td>Franklin</td>\n",
       "      <td>None</td>\n",
       "      <td>None</td>\n",
       "      <td>None</td>\n",
       "      <td>None</td>\n",
       "    </tr>\n",
       "  </tbody>\n",
       "</table>\n",
       "</div>"
      ],
      "text/plain": [
       "             tweet_id  in_reply_to_status_id  in_reply_to_user_id  \\\n",
       "0  892420643555336193                    NaN                  NaN   \n",
       "1  892177421306343426                    NaN                  NaN   \n",
       "2  891815181378084864                    NaN                  NaN   \n",
       "3  891689557279858688                    NaN                  NaN   \n",
       "4  891327558926688256                    NaN                  NaN   \n",
       "\n",
       "                   timestamp  \\\n",
       "0  2017-08-01 16:23:56 +0000   \n",
       "1  2017-08-01 00:17:27 +0000   \n",
       "2  2017-07-31 00:18:03 +0000   \n",
       "3  2017-07-30 15:58:51 +0000   \n",
       "4  2017-07-29 16:00:24 +0000   \n",
       "\n",
       "                                              source  \\\n",
       "0  <a href=\"http://twitter.com/download/iphone\" r...   \n",
       "1  <a href=\"http://twitter.com/download/iphone\" r...   \n",
       "2  <a href=\"http://twitter.com/download/iphone\" r...   \n",
       "3  <a href=\"http://twitter.com/download/iphone\" r...   \n",
       "4  <a href=\"http://twitter.com/download/iphone\" r...   \n",
       "\n",
       "                                                text  retweeted_status_id  \\\n",
       "0  This is Phineas. He's a mystical boy. Only eve...                  NaN   \n",
       "1  This is Tilly. She's just checking pup on you....                  NaN   \n",
       "2  This is Archie. He is a rare Norwegian Pouncin...                  NaN   \n",
       "3  This is Darla. She commenced a snooze mid meal...                  NaN   \n",
       "4  This is Franklin. He would like you to stop ca...                  NaN   \n",
       "\n",
       "   retweeted_status_user_id retweeted_status_timestamp  \\\n",
       "0                       NaN                        NaN   \n",
       "1                       NaN                        NaN   \n",
       "2                       NaN                        NaN   \n",
       "3                       NaN                        NaN   \n",
       "4                       NaN                        NaN   \n",
       "\n",
       "                                       expanded_urls  rating_numerator  \\\n",
       "0  https://twitter.com/dog_rates/status/892420643...                13   \n",
       "1  https://twitter.com/dog_rates/status/892177421...                13   \n",
       "2  https://twitter.com/dog_rates/status/891815181...                12   \n",
       "3  https://twitter.com/dog_rates/status/891689557...                13   \n",
       "4  https://twitter.com/dog_rates/status/891327558...                12   \n",
       "\n",
       "   rating_denominator      name doggo floofer pupper puppo  \n",
       "0                  10   Phineas  None    None   None  None  \n",
       "1                  10     Tilly  None    None   None  None  \n",
       "2                  10    Archie  None    None   None  None  \n",
       "3                  10     Darla  None    None   None  None  \n",
       "4                  10  Franklin  None    None   None  None  "
      ]
     },
     "execution_count": 181,
     "metadata": {},
     "output_type": "execute_result"
    }
   ],
   "source": [
    "tweets_df.head(5)"
   ]
  },
  {
   "cell_type": "code",
   "execution_count": 182,
   "id": "8be33cbf",
   "metadata": {},
   "outputs": [
    {
     "name": "stdout",
     "output_type": "stream",
     "text": [
      "<class 'pandas.core.frame.DataFrame'>\n",
      "RangeIndex: 2075 entries, 0 to 2074\n",
      "Data columns (total 12 columns):\n",
      "tweet_id    2075 non-null int64\n",
      "jpg_url     2075 non-null object\n",
      "img_num     2075 non-null int64\n",
      "p1          2075 non-null object\n",
      "p1_conf     2075 non-null float64\n",
      "p1_dog      2075 non-null bool\n",
      "p2          2075 non-null object\n",
      "p2_conf     2075 non-null float64\n",
      "p2_dog      2075 non-null bool\n",
      "p3          2075 non-null object\n",
      "p3_conf     2075 non-null float64\n",
      "p3_dog      2075 non-null bool\n",
      "dtypes: bool(3), float64(3), int64(2), object(4)\n",
      "memory usage: 152.0+ KB\n"
     ]
    }
   ],
   "source": [
    "images_df.info()"
   ]
  },
  {
   "cell_type": "code",
   "execution_count": 183,
   "id": "2af1032e",
   "metadata": {},
   "outputs": [
    {
     "data": {
      "text/html": [
       "<div>\n",
       "<style scoped>\n",
       "    .dataframe tbody tr th:only-of-type {\n",
       "        vertical-align: middle;\n",
       "    }\n",
       "\n",
       "    .dataframe tbody tr th {\n",
       "        vertical-align: top;\n",
       "    }\n",
       "\n",
       "    .dataframe thead th {\n",
       "        text-align: right;\n",
       "    }\n",
       "</style>\n",
       "<table border=\"1\" class=\"dataframe\">\n",
       "  <thead>\n",
       "    <tr style=\"text-align: right;\">\n",
       "      <th></th>\n",
       "      <th>tweet_id</th>\n",
       "      <th>jpg_url</th>\n",
       "      <th>img_num</th>\n",
       "      <th>p1</th>\n",
       "      <th>p1_conf</th>\n",
       "      <th>p1_dog</th>\n",
       "      <th>p2</th>\n",
       "      <th>p2_conf</th>\n",
       "      <th>p2_dog</th>\n",
       "      <th>p3</th>\n",
       "      <th>p3_conf</th>\n",
       "      <th>p3_dog</th>\n",
       "    </tr>\n",
       "  </thead>\n",
       "  <tbody>\n",
       "    <tr>\n",
       "      <th>0</th>\n",
       "      <td>666020888022790149</td>\n",
       "      <td>https://pbs.twimg.com/media/CT4udn0WwAA0aMy.jpg</td>\n",
       "      <td>1</td>\n",
       "      <td>Welsh_springer_spaniel</td>\n",
       "      <td>0.465074</td>\n",
       "      <td>True</td>\n",
       "      <td>collie</td>\n",
       "      <td>0.156665</td>\n",
       "      <td>True</td>\n",
       "      <td>Shetland_sheepdog</td>\n",
       "      <td>0.061428</td>\n",
       "      <td>True</td>\n",
       "    </tr>\n",
       "    <tr>\n",
       "      <th>1</th>\n",
       "      <td>666029285002620928</td>\n",
       "      <td>https://pbs.twimg.com/media/CT42GRgUYAA5iDo.jpg</td>\n",
       "      <td>1</td>\n",
       "      <td>redbone</td>\n",
       "      <td>0.506826</td>\n",
       "      <td>True</td>\n",
       "      <td>miniature_pinscher</td>\n",
       "      <td>0.074192</td>\n",
       "      <td>True</td>\n",
       "      <td>Rhodesian_ridgeback</td>\n",
       "      <td>0.072010</td>\n",
       "      <td>True</td>\n",
       "    </tr>\n",
       "    <tr>\n",
       "      <th>2</th>\n",
       "      <td>666033412701032449</td>\n",
       "      <td>https://pbs.twimg.com/media/CT4521TWwAEvMyu.jpg</td>\n",
       "      <td>1</td>\n",
       "      <td>German_shepherd</td>\n",
       "      <td>0.596461</td>\n",
       "      <td>True</td>\n",
       "      <td>malinois</td>\n",
       "      <td>0.138584</td>\n",
       "      <td>True</td>\n",
       "      <td>bloodhound</td>\n",
       "      <td>0.116197</td>\n",
       "      <td>True</td>\n",
       "    </tr>\n",
       "    <tr>\n",
       "      <th>3</th>\n",
       "      <td>666044226329800704</td>\n",
       "      <td>https://pbs.twimg.com/media/CT5Dr8HUEAA-lEu.jpg</td>\n",
       "      <td>1</td>\n",
       "      <td>Rhodesian_ridgeback</td>\n",
       "      <td>0.408143</td>\n",
       "      <td>True</td>\n",
       "      <td>redbone</td>\n",
       "      <td>0.360687</td>\n",
       "      <td>True</td>\n",
       "      <td>miniature_pinscher</td>\n",
       "      <td>0.222752</td>\n",
       "      <td>True</td>\n",
       "    </tr>\n",
       "    <tr>\n",
       "      <th>4</th>\n",
       "      <td>666049248165822465</td>\n",
       "      <td>https://pbs.twimg.com/media/CT5IQmsXIAAKY4A.jpg</td>\n",
       "      <td>1</td>\n",
       "      <td>miniature_pinscher</td>\n",
       "      <td>0.560311</td>\n",
       "      <td>True</td>\n",
       "      <td>Rottweiler</td>\n",
       "      <td>0.243682</td>\n",
       "      <td>True</td>\n",
       "      <td>Doberman</td>\n",
       "      <td>0.154629</td>\n",
       "      <td>True</td>\n",
       "    </tr>\n",
       "  </tbody>\n",
       "</table>\n",
       "</div>"
      ],
      "text/plain": [
       "             tweet_id                                          jpg_url  \\\n",
       "0  666020888022790149  https://pbs.twimg.com/media/CT4udn0WwAA0aMy.jpg   \n",
       "1  666029285002620928  https://pbs.twimg.com/media/CT42GRgUYAA5iDo.jpg   \n",
       "2  666033412701032449  https://pbs.twimg.com/media/CT4521TWwAEvMyu.jpg   \n",
       "3  666044226329800704  https://pbs.twimg.com/media/CT5Dr8HUEAA-lEu.jpg   \n",
       "4  666049248165822465  https://pbs.twimg.com/media/CT5IQmsXIAAKY4A.jpg   \n",
       "\n",
       "   img_num                      p1   p1_conf  p1_dog                  p2  \\\n",
       "0        1  Welsh_springer_spaniel  0.465074    True              collie   \n",
       "1        1                 redbone  0.506826    True  miniature_pinscher   \n",
       "2        1         German_shepherd  0.596461    True            malinois   \n",
       "3        1     Rhodesian_ridgeback  0.408143    True             redbone   \n",
       "4        1      miniature_pinscher  0.560311    True          Rottweiler   \n",
       "\n",
       "    p2_conf  p2_dog                   p3   p3_conf  p3_dog  \n",
       "0  0.156665    True    Shetland_sheepdog  0.061428    True  \n",
       "1  0.074192    True  Rhodesian_ridgeback  0.072010    True  \n",
       "2  0.138584    True           bloodhound  0.116197    True  \n",
       "3  0.360687    True   miniature_pinscher  0.222752    True  \n",
       "4  0.243682    True             Doberman  0.154629    True  "
      ]
     },
     "execution_count": 183,
     "metadata": {},
     "output_type": "execute_result"
    }
   ],
   "source": [
    "images_df.head(5)"
   ]
  },
  {
   "cell_type": "code",
   "execution_count": 184,
   "id": "6c9b87c4",
   "metadata": {},
   "outputs": [
    {
     "name": "stdout",
     "output_type": "stream",
     "text": [
      "<class 'pandas.core.frame.DataFrame'>\n",
      "RangeIndex: 2327 entries, 0 to 2326\n",
      "Data columns (total 3 columns):\n",
      "tweet_id          2327 non-null object\n",
      "retweet_count     2327 non-null int64\n",
      "favorite_count    2327 non-null int64\n",
      "dtypes: int64(2), object(1)\n",
      "memory usage: 54.6+ KB\n"
     ]
    }
   ],
   "source": [
    "tweets_meta_df.info()"
   ]
  },
  {
   "cell_type": "code",
   "execution_count": 185,
   "id": "9a0c5d63",
   "metadata": {},
   "outputs": [
    {
     "data": {
      "text/html": [
       "<div>\n",
       "<style scoped>\n",
       "    .dataframe tbody tr th:only-of-type {\n",
       "        vertical-align: middle;\n",
       "    }\n",
       "\n",
       "    .dataframe tbody tr th {\n",
       "        vertical-align: top;\n",
       "    }\n",
       "\n",
       "    .dataframe thead th {\n",
       "        text-align: right;\n",
       "    }\n",
       "</style>\n",
       "<table border=\"1\" class=\"dataframe\">\n",
       "  <thead>\n",
       "    <tr style=\"text-align: right;\">\n",
       "      <th></th>\n",
       "      <th>tweet_id</th>\n",
       "      <th>retweet_count</th>\n",
       "      <th>favorite_count</th>\n",
       "    </tr>\n",
       "  </thead>\n",
       "  <tbody>\n",
       "    <tr>\n",
       "      <th>0</th>\n",
       "      <td>892420643555336193</td>\n",
       "      <td>6969</td>\n",
       "      <td>33676</td>\n",
       "    </tr>\n",
       "    <tr>\n",
       "      <th>1</th>\n",
       "      <td>892177421306343426</td>\n",
       "      <td>5272</td>\n",
       "      <td>29206</td>\n",
       "    </tr>\n",
       "    <tr>\n",
       "      <th>2</th>\n",
       "      <td>891815181378084864</td>\n",
       "      <td>3464</td>\n",
       "      <td>21971</td>\n",
       "    </tr>\n",
       "    <tr>\n",
       "      <th>3</th>\n",
       "      <td>891689557279858688</td>\n",
       "      <td>7183</td>\n",
       "      <td>36752</td>\n",
       "    </tr>\n",
       "    <tr>\n",
       "      <th>4</th>\n",
       "      <td>891327558926688256</td>\n",
       "      <td>7715</td>\n",
       "      <td>35143</td>\n",
       "    </tr>\n",
       "  </tbody>\n",
       "</table>\n",
       "</div>"
      ],
      "text/plain": [
       "             tweet_id  retweet_count  favorite_count\n",
       "0  892420643555336193           6969           33676\n",
       "1  892177421306343426           5272           29206\n",
       "2  891815181378084864           3464           21971\n",
       "3  891689557279858688           7183           36752\n",
       "4  891327558926688256           7715           35143"
      ]
     },
     "execution_count": 185,
     "metadata": {},
     "output_type": "execute_result"
    }
   ],
   "source": [
    "tweets_meta_df.head(5)"
   ]
  },
  {
   "cell_type": "code",
   "execution_count": 186,
   "id": "8ceca123",
   "metadata": {},
   "outputs": [
    {
     "data": {
      "text/plain": [
       "17    tweet_id\n",
       "29    tweet_id\n",
       "dtype: object"
      ]
     },
     "execution_count": 186,
     "metadata": {},
     "output_type": "execute_result"
    }
   ],
   "source": [
    "all_columns = pd.Series(list(tweets_df) + list(images_df) + list(tweets_meta_df))\n",
    "all_columns[all_columns.duplicated()]"
   ]
  },
  {
   "cell_type": "code",
   "execution_count": 187,
   "id": "b2f6256d",
   "metadata": {},
   "outputs": [
    {
     "data": {
      "text/html": [
       "<div>\n",
       "<style scoped>\n",
       "    .dataframe tbody tr th:only-of-type {\n",
       "        vertical-align: middle;\n",
       "    }\n",
       "\n",
       "    .dataframe tbody tr th {\n",
       "        vertical-align: top;\n",
       "    }\n",
       "\n",
       "    .dataframe thead th {\n",
       "        text-align: right;\n",
       "    }\n",
       "</style>\n",
       "<table border=\"1\" class=\"dataframe\">\n",
       "  <thead>\n",
       "    <tr style=\"text-align: right;\">\n",
       "      <th></th>\n",
       "      <th>tweet_id</th>\n",
       "      <th>in_reply_to_status_id</th>\n",
       "      <th>in_reply_to_user_id</th>\n",
       "      <th>timestamp</th>\n",
       "      <th>source</th>\n",
       "      <th>text</th>\n",
       "      <th>retweeted_status_id</th>\n",
       "      <th>retweeted_status_user_id</th>\n",
       "      <th>retweeted_status_timestamp</th>\n",
       "      <th>expanded_urls</th>\n",
       "      <th>rating_numerator</th>\n",
       "      <th>rating_denominator</th>\n",
       "      <th>name</th>\n",
       "      <th>doggo</th>\n",
       "      <th>floofer</th>\n",
       "      <th>pupper</th>\n",
       "      <th>puppo</th>\n",
       "    </tr>\n",
       "  </thead>\n",
       "  <tbody>\n",
       "    <tr>\n",
       "      <th>0</th>\n",
       "      <td>892420643555336193</td>\n",
       "      <td>NaN</td>\n",
       "      <td>NaN</td>\n",
       "      <td>2017-08-01 16:23:56 +0000</td>\n",
       "      <td>&lt;a href=\"http://twitter.com/download/iphone\" r...</td>\n",
       "      <td>This is Phineas. He's a mystical boy. Only eve...</td>\n",
       "      <td>NaN</td>\n",
       "      <td>NaN</td>\n",
       "      <td>NaN</td>\n",
       "      <td>https://twitter.com/dog_rates/status/892420643...</td>\n",
       "      <td>13</td>\n",
       "      <td>10</td>\n",
       "      <td>Phineas</td>\n",
       "      <td>None</td>\n",
       "      <td>None</td>\n",
       "      <td>None</td>\n",
       "      <td>None</td>\n",
       "    </tr>\n",
       "    <tr>\n",
       "      <th>1</th>\n",
       "      <td>892177421306343426</td>\n",
       "      <td>NaN</td>\n",
       "      <td>NaN</td>\n",
       "      <td>2017-08-01 00:17:27 +0000</td>\n",
       "      <td>&lt;a href=\"http://twitter.com/download/iphone\" r...</td>\n",
       "      <td>This is Tilly. She's just checking pup on you....</td>\n",
       "      <td>NaN</td>\n",
       "      <td>NaN</td>\n",
       "      <td>NaN</td>\n",
       "      <td>https://twitter.com/dog_rates/status/892177421...</td>\n",
       "      <td>13</td>\n",
       "      <td>10</td>\n",
       "      <td>Tilly</td>\n",
       "      <td>None</td>\n",
       "      <td>None</td>\n",
       "      <td>None</td>\n",
       "      <td>None</td>\n",
       "    </tr>\n",
       "    <tr>\n",
       "      <th>2</th>\n",
       "      <td>891815181378084864</td>\n",
       "      <td>NaN</td>\n",
       "      <td>NaN</td>\n",
       "      <td>2017-07-31 00:18:03 +0000</td>\n",
       "      <td>&lt;a href=\"http://twitter.com/download/iphone\" r...</td>\n",
       "      <td>This is Archie. He is a rare Norwegian Pouncin...</td>\n",
       "      <td>NaN</td>\n",
       "      <td>NaN</td>\n",
       "      <td>NaN</td>\n",
       "      <td>https://twitter.com/dog_rates/status/891815181...</td>\n",
       "      <td>12</td>\n",
       "      <td>10</td>\n",
       "      <td>Archie</td>\n",
       "      <td>None</td>\n",
       "      <td>None</td>\n",
       "      <td>None</td>\n",
       "      <td>None</td>\n",
       "    </tr>\n",
       "    <tr>\n",
       "      <th>3</th>\n",
       "      <td>891689557279858688</td>\n",
       "      <td>NaN</td>\n",
       "      <td>NaN</td>\n",
       "      <td>2017-07-30 15:58:51 +0000</td>\n",
       "      <td>&lt;a href=\"http://twitter.com/download/iphone\" r...</td>\n",
       "      <td>This is Darla. She commenced a snooze mid meal...</td>\n",
       "      <td>NaN</td>\n",
       "      <td>NaN</td>\n",
       "      <td>NaN</td>\n",
       "      <td>https://twitter.com/dog_rates/status/891689557...</td>\n",
       "      <td>13</td>\n",
       "      <td>10</td>\n",
       "      <td>Darla</td>\n",
       "      <td>None</td>\n",
       "      <td>None</td>\n",
       "      <td>None</td>\n",
       "      <td>None</td>\n",
       "    </tr>\n",
       "    <tr>\n",
       "      <th>4</th>\n",
       "      <td>891327558926688256</td>\n",
       "      <td>NaN</td>\n",
       "      <td>NaN</td>\n",
       "      <td>2017-07-29 16:00:24 +0000</td>\n",
       "      <td>&lt;a href=\"http://twitter.com/download/iphone\" r...</td>\n",
       "      <td>This is Franklin. He would like you to stop ca...</td>\n",
       "      <td>NaN</td>\n",
       "      <td>NaN</td>\n",
       "      <td>NaN</td>\n",
       "      <td>https://twitter.com/dog_rates/status/891327558...</td>\n",
       "      <td>12</td>\n",
       "      <td>10</td>\n",
       "      <td>Franklin</td>\n",
       "      <td>None</td>\n",
       "      <td>None</td>\n",
       "      <td>None</td>\n",
       "      <td>None</td>\n",
       "    </tr>\n",
       "  </tbody>\n",
       "</table>\n",
       "</div>"
      ],
      "text/plain": [
       "             tweet_id  in_reply_to_status_id  in_reply_to_user_id  \\\n",
       "0  892420643555336193                    NaN                  NaN   \n",
       "1  892177421306343426                    NaN                  NaN   \n",
       "2  891815181378084864                    NaN                  NaN   \n",
       "3  891689557279858688                    NaN                  NaN   \n",
       "4  891327558926688256                    NaN                  NaN   \n",
       "\n",
       "                   timestamp  \\\n",
       "0  2017-08-01 16:23:56 +0000   \n",
       "1  2017-08-01 00:17:27 +0000   \n",
       "2  2017-07-31 00:18:03 +0000   \n",
       "3  2017-07-30 15:58:51 +0000   \n",
       "4  2017-07-29 16:00:24 +0000   \n",
       "\n",
       "                                              source  \\\n",
       "0  <a href=\"http://twitter.com/download/iphone\" r...   \n",
       "1  <a href=\"http://twitter.com/download/iphone\" r...   \n",
       "2  <a href=\"http://twitter.com/download/iphone\" r...   \n",
       "3  <a href=\"http://twitter.com/download/iphone\" r...   \n",
       "4  <a href=\"http://twitter.com/download/iphone\" r...   \n",
       "\n",
       "                                                text  retweeted_status_id  \\\n",
       "0  This is Phineas. He's a mystical boy. Only eve...                  NaN   \n",
       "1  This is Tilly. She's just checking pup on you....                  NaN   \n",
       "2  This is Archie. He is a rare Norwegian Pouncin...                  NaN   \n",
       "3  This is Darla. She commenced a snooze mid meal...                  NaN   \n",
       "4  This is Franklin. He would like you to stop ca...                  NaN   \n",
       "\n",
       "   retweeted_status_user_id retweeted_status_timestamp  \\\n",
       "0                       NaN                        NaN   \n",
       "1                       NaN                        NaN   \n",
       "2                       NaN                        NaN   \n",
       "3                       NaN                        NaN   \n",
       "4                       NaN                        NaN   \n",
       "\n",
       "                                       expanded_urls  rating_numerator  \\\n",
       "0  https://twitter.com/dog_rates/status/892420643...                13   \n",
       "1  https://twitter.com/dog_rates/status/892177421...                13   \n",
       "2  https://twitter.com/dog_rates/status/891815181...                12   \n",
       "3  https://twitter.com/dog_rates/status/891689557...                13   \n",
       "4  https://twitter.com/dog_rates/status/891327558...                12   \n",
       "\n",
       "   rating_denominator      name doggo floofer pupper puppo  \n",
       "0                  10   Phineas  None    None   None  None  \n",
       "1                  10     Tilly  None    None   None  None  \n",
       "2                  10    Archie  None    None   None  None  \n",
       "3                  10     Darla  None    None   None  None  \n",
       "4                  10  Franklin  None    None   None  None  "
      ]
     },
     "execution_count": 187,
     "metadata": {},
     "output_type": "execute_result"
    }
   ],
   "source": [
    "tweets_df.head(5)"
   ]
  },
  {
   "cell_type": "markdown",
   "id": "b00e8008",
   "metadata": {},
   "source": [
    "### 3. CLEANING DATA"
   ]
  },
  {
   "cell_type": "markdown",
   "id": "d0c6fa8d",
   "metadata": {},
   "source": [
    "#### QUALITY ISSUES \n",
    "##### Twitter Archive Enhanced Dataset \n",
    "- `tweet_ids, time_stamp column, rating_numerator, rating_denominator:` erronous data types [+]\n",
    "- `source column:` values are unsanitized (contain HTML) [+]\n",
    "- `in_reply_to_status_id, in_reply_to_user_id, retweeted_status_user_id column, retweeted_status_timestamp column, retweeted_status_timestamp:` not needed for analysis, should be dropped [+]\n",
    "- `name column:`  non-name-like entries || mixed cases [+]\n",
    "- `retweeted_status_user_id`: delete retweets [+]\n",
    "##### Images Prediction Dataset\n",
    "- `missing values:` 2075 rows instead of 2356 rows [+]\n",
    "- `tweet_id column:` erroneous datatype [+]\n",
    "\n",
    "##### Tweets Meta Dataset\n",
    "- `tweet_id column:` erroneous datatype [+]\n",
    "\n",
    "#### TIDINESS ISSUES\n",
    "##### Twitter Archive Enhanced Dataset\n",
    "- `img_num`: drop tweets with no images [+]\n",
    "- `text column:` should be split into `tweet_text` and `tweet_url` [+]\n",
    "- `doggo, floofer, pupper and puppo columns:` should be merged into a single column `dog_stage` [+]\n",
    "##### Tweets Meta Dataset\n",
    "- `retweet_count and favorite_count columns:` should be merged into the tweets_df [+]\n",
    "##### Image Prediction Dataset\n",
    "- `images_df` should be merged into the tweets_df [+]"
   ]
  },
  {
   "cell_type": "code",
   "execution_count": 188,
   "id": "c3ff3fb7",
   "metadata": {},
   "outputs": [],
   "source": [
    "# Make copies of the original data\n",
    "clean_tweets = tweets_df.copy()\n",
    "clean_images = images_df.copy()\n",
    "clean_tweets_meta = tweets_meta_df.copy()"
   ]
  },
  {
   "cell_type": "markdown",
   "id": "4b5353f1",
   "metadata": {},
   "source": [
    "<b>Define</b><br />\n",
    "Erronous datatypes"
   ]
  },
  {
   "cell_type": "markdown",
   "id": "07004c48",
   "metadata": {},
   "source": [
    "<b>Code</b>"
   ]
  },
  {
   "cell_type": "code",
   "execution_count": 189,
   "id": "cd9805f7",
   "metadata": {},
   "outputs": [],
   "source": [
    "clean_tweets.tweet_id = clean_tweets.tweet_id.astype(str)\n",
    "clean_tweets.timestamp = pd.to_datetime(clean_tweets.timestamp)\n",
    "\n",
    "clean_images.tweet_id = clean_images.tweet_id.astype(str)\n",
    "\n",
    "clean_tweets_meta.tweet_id = clean_tweets_meta.tweet_id.astype(str)"
   ]
  },
  {
   "cell_type": "markdown",
   "id": "6534c3f1",
   "metadata": {},
   "source": [
    "<b>Test</b>"
   ]
  },
  {
   "cell_type": "code",
   "execution_count": 190,
   "id": "24d64930",
   "metadata": {},
   "outputs": [
    {
     "name": "stdout",
     "output_type": "stream",
     "text": [
      "<class 'pandas.core.frame.DataFrame'>\n",
      "RangeIndex: 2356 entries, 0 to 2355\n",
      "Data columns (total 17 columns):\n",
      "tweet_id                      2356 non-null object\n",
      "in_reply_to_status_id         78 non-null float64\n",
      "in_reply_to_user_id           78 non-null float64\n",
      "timestamp                     2356 non-null datetime64[ns, UTC]\n",
      "source                        2356 non-null object\n",
      "text                          2356 non-null object\n",
      "retweeted_status_id           181 non-null float64\n",
      "retweeted_status_user_id      181 non-null float64\n",
      "retweeted_status_timestamp    181 non-null object\n",
      "expanded_urls                 2297 non-null object\n",
      "rating_numerator              2356 non-null int64\n",
      "rating_denominator            2356 non-null int64\n",
      "name                          2356 non-null object\n",
      "doggo                         2356 non-null object\n",
      "floofer                       2356 non-null object\n",
      "pupper                        2356 non-null object\n",
      "puppo                         2356 non-null object\n",
      "dtypes: datetime64[ns, UTC](1), float64(4), int64(2), object(10)\n",
      "memory usage: 313.0+ KB\n",
      "<class 'pandas.core.frame.DataFrame'>\n",
      "RangeIndex: 2075 entries, 0 to 2074\n",
      "Data columns (total 12 columns):\n",
      "tweet_id    2075 non-null object\n",
      "jpg_url     2075 non-null object\n",
      "img_num     2075 non-null int64\n",
      "p1          2075 non-null object\n",
      "p1_conf     2075 non-null float64\n",
      "p1_dog      2075 non-null bool\n",
      "p2          2075 non-null object\n",
      "p2_conf     2075 non-null float64\n",
      "p2_dog      2075 non-null bool\n",
      "p3          2075 non-null object\n",
      "p3_conf     2075 non-null float64\n",
      "p3_dog      2075 non-null bool\n",
      "dtypes: bool(3), float64(3), int64(1), object(5)\n",
      "memory usage: 152.0+ KB\n",
      "<class 'pandas.core.frame.DataFrame'>\n",
      "RangeIndex: 2327 entries, 0 to 2326\n",
      "Data columns (total 3 columns):\n",
      "tweet_id          2327 non-null object\n",
      "retweet_count     2327 non-null int64\n",
      "favorite_count    2327 non-null int64\n",
      "dtypes: int64(2), object(1)\n",
      "memory usage: 54.6+ KB\n"
     ]
    }
   ],
   "source": [
    "clean_tweets.info()\n",
    "clean_images.info()\n",
    "clean_tweets_meta.info()"
   ]
  },
  {
   "cell_type": "markdown",
   "id": "b52c869f",
   "metadata": {},
   "source": [
    "<b>Define</b><br />\n",
    "Delete Retweets from the `clean_tweets` dataframe"
   ]
  },
  {
   "cell_type": "markdown",
   "id": "b52c869f",
   "metadata": {},
   "source": [
    "<b>Code</b>"
   ]
  },
  {
   "cell_type": "code",
   "execution_count": 191,
   "id": "b83ec557",
   "metadata": {},
   "outputs": [],
   "source": [
    "clean_tweets = clean_tweets[pd.isnull(clean_tweets['retweeted_status_user_id'])]"
   ]
  },
  {
   "cell_type": "markdown",
   "id": "b52c869f",
   "metadata": {},
   "source": [
    "<b>Test</b>"
   ]
  },
  {
   "cell_type": "code",
   "execution_count": 192,
   "id": "aac9edc0",
   "metadata": {},
   "outputs": [
    {
     "name": "stdout",
     "output_type": "stream",
     "text": [
      "<class 'pandas.core.frame.DataFrame'>\n",
      "Int64Index: 2175 entries, 0 to 2355\n",
      "Data columns (total 17 columns):\n",
      "tweet_id                      2175 non-null object\n",
      "in_reply_to_status_id         78 non-null float64\n",
      "in_reply_to_user_id           78 non-null float64\n",
      "timestamp                     2175 non-null datetime64[ns, UTC]\n",
      "source                        2175 non-null object\n",
      "text                          2175 non-null object\n",
      "retweeted_status_id           0 non-null float64\n",
      "retweeted_status_user_id      0 non-null float64\n",
      "retweeted_status_timestamp    0 non-null object\n",
      "expanded_urls                 2117 non-null object\n",
      "rating_numerator              2175 non-null int64\n",
      "rating_denominator            2175 non-null int64\n",
      "name                          2175 non-null object\n",
      "doggo                         2175 non-null object\n",
      "floofer                       2175 non-null object\n",
      "pupper                        2175 non-null object\n",
      "puppo                         2175 non-null object\n",
      "dtypes: datetime64[ns, UTC](1), float64(4), int64(2), object(10)\n",
      "memory usage: 305.9+ KB\n"
     ]
    }
   ],
   "source": [
    "clean_tweets.info()"
   ]
  },
  {
   "cell_type": "markdown",
   "id": "b52c869f",
   "metadata": {},
   "source": [
    "<b>Define</b><br />\n",
    "Incorrect names for dogs. `a` names will be taken as None, otherwise name will be capitalized."
   ]
  },
  {
   "cell_type": "markdown",
   "id": "65eb2e33",
   "metadata": {},
   "source": [
    "<b>Code</b>"
   ]
  },
  {
   "cell_type": "code",
   "execution_count": 193,
   "id": "6f3ab1c1",
   "metadata": {},
   "outputs": [],
   "source": [
    "import string\n",
    "\n",
    "\n",
    "for index, row in clean_tweets.iterrows():\n",
    "    try:\n",
    "        if clean_tweets.loc[index, 'name'] == 'a':\n",
    "            clean_tweets.loc[index, 'name'] = 'None'\n",
    "        else:\n",
    "            clean_tweets.loc[index, 'name'] = string.capwords(clean_tweets.loc[index, 'name'], sep=None)\n",
    "    except:\n",
    "        pass"
   ]
  },
  {
   "cell_type": "markdown",
   "id": "4294f660",
   "metadata": {},
   "source": [
    "<b>Test</b>"
   ]
  },
  {
   "cell_type": "code",
   "execution_count": 194,
   "id": "e896e889",
   "metadata": {},
   "outputs": [
    {
     "data": {
      "text/plain": [
       "None         735\n",
       "Charlie       11\n",
       "Lucy          11\n",
       "Cooper        10\n",
       "Oliver        10\n",
       "Penny          9\n",
       "Tucker         9\n",
       "Sadie          8\n",
       "Winston        8\n",
       "Lola           8\n",
       "The            8\n",
       "Toby           7\n",
       "Daisy          7\n",
       "Bella          6\n",
       "Jax            6\n",
       "An             6\n",
       "Oscar          6\n",
       "Stanley        6\n",
       "Bailey         6\n",
       "Bo             6\n",
       "Koda           6\n",
       "Chester        5\n",
       "Dave           5\n",
       "Milo           5\n",
       "Leo            5\n",
       "Buddy          5\n",
       "Louis          5\n",
       "Scout          5\n",
       "Rusty          5\n",
       "Bentley        5\n",
       "            ... \n",
       "Pavlov         1\n",
       "Suki           1\n",
       "Creg           1\n",
       "Stubert        1\n",
       "Edgar          1\n",
       "Zara           1\n",
       "Brudge         1\n",
       "Meatball       1\n",
       "Lili           1\n",
       "Grizzie        1\n",
       "Mollie         1\n",
       "Teddy          1\n",
       "Snoop          1\n",
       "Lenox          1\n",
       "Jeremy         1\n",
       "Philbert       1\n",
       "Zooey          1\n",
       "Todo           1\n",
       "Kanu           1\n",
       "Dawn           1\n",
       "Balto          1\n",
       "Steve          1\n",
       "Laika          1\n",
       "Socks          1\n",
       "Eazy           1\n",
       "Kane           1\n",
       "Moreton        1\n",
       "Finnegus       1\n",
       "Alexander      1\n",
       "Opie           1\n",
       "Name: name, Length: 955, dtype: int64"
      ]
     },
     "execution_count": 194,
     "metadata": {},
     "output_type": "execute_result"
    }
   ],
   "source": [
    "clean_tweets['name'].value_counts()"
   ]
  },
  {
   "cell_type": "markdown",
   "id": "9bbab841",
   "metadata": {},
   "source": [
    "<b>Define</b><br />\n",
    "Drop unecessary columns"
   ]
  },
  {
   "cell_type": "markdown",
   "id": "9725959d",
   "metadata": {},
   "source": [
    "<b>Code</b>"
   ]
  },
  {
   "cell_type": "code",
   "execution_count": 195,
   "id": "313830c2",
   "metadata": {},
   "outputs": [],
   "source": [
    "clean_tweets = clean_tweets.drop(['in_reply_to_status_id','in_reply_to_user_id','retweeted_status_id', 'retweeted_status_user_id','retweeted_status_timestamp', 'expanded_urls'], 1)"
   ]
  },
  {
   "cell_type": "markdown",
   "id": "5d7c0c84",
   "metadata": {},
   "source": [
    "<b>Test</b><br />"
   ]
  },
  {
   "cell_type": "code",
   "execution_count": 196,
   "id": "fed3592e",
   "metadata": {},
   "outputs": [
    {
     "name": "stdout",
     "output_type": "stream",
     "text": [
      "<class 'pandas.core.frame.DataFrame'>\n",
      "Int64Index: 2175 entries, 0 to 2355\n",
      "Data columns (total 11 columns):\n",
      "tweet_id              2175 non-null object\n",
      "timestamp             2175 non-null datetime64[ns, UTC]\n",
      "source                2175 non-null object\n",
      "text                  2175 non-null object\n",
      "rating_numerator      2175 non-null int64\n",
      "rating_denominator    2175 non-null int64\n",
      "name                  2175 non-null object\n",
      "doggo                 2175 non-null object\n",
      "floofer               2175 non-null object\n",
      "pupper                2175 non-null object\n",
      "puppo                 2175 non-null object\n",
      "dtypes: datetime64[ns, UTC](1), int64(2), object(8)\n",
      "memory usage: 283.9+ KB\n"
     ]
    }
   ],
   "source": [
    "clean_tweets.info()"
   ]
  },
  {
   "cell_type": "markdown",
   "id": "d5d8859d",
   "metadata": {},
   "source": [
    "<b>Define</b><br />\n",
    "`Source column` in tweets_df contains html <br/>\n",
    "Strip out the html content from the value"
   ]
  },
  {
   "cell_type": "markdown",
   "id": "7beeec12",
   "metadata": {},
   "source": [
    "<b>Code<b/>"
   ]
  },
  {
   "cell_type": "code",
   "execution_count": 197,
   "id": "df6af78c",
   "metadata": {},
   "outputs": [],
   "source": [
    "for index, row in clean_tweets.iterrows():\n",
    "    if (clean_tweets.loc[index, 'source']):\n",
    "        soup = BeautifulSoup(clean_tweets.loc[index, 'source'])\n",
    "        clean_tweets.loc[index, 'source'] = soup.find('a').text\n",
    "    else:\n",
    "        pass"
   ]
  },
  {
   "cell_type": "markdown",
   "id": "53fc590b",
   "metadata": {},
   "source": [
    "<b>Test</b>"
   ]
  },
  {
   "cell_type": "code",
   "execution_count": 198,
   "id": "6cb0c9d7",
   "metadata": {},
   "outputs": [
    {
     "data": {
      "text/plain": [
       "Twitter for iPhone     2042\n",
       "Vine - Make a Scene      91\n",
       "Twitter Web Client       31\n",
       "TweetDeck                11\n",
       "Name: source, dtype: int64"
      ]
     },
     "execution_count": 198,
     "metadata": {},
     "output_type": "execute_result"
    }
   ],
   "source": [
    "clean_tweets.source.value_counts()"
   ]
  },
  {
   "cell_type": "markdown",
   "id": "a7e3a4e3",
   "metadata": {},
   "source": [
    "<h3><b>Tidiness</b></h3>"
   ]
  },
  {
   "cell_type": "markdown",
   "id": "068cbe77",
   "metadata": {},
   "source": [
    "<b>Define</b><br />\n",
    "Drop tweets in `clean_tweets` with no images"
   ]
  },
  {
   "cell_type": "markdown",
   "id": "b9f94e37",
   "metadata": {},
   "source": [
    "<b>Code</b>"
   ]
  },
  {
   "cell_type": "code",
   "execution_count": 199,
   "id": "d484525c",
   "metadata": {},
   "outputs": [],
   "source": [
    "clean_tweets.dropna(axis=0, inplace=True)"
   ]
  },
  {
   "cell_type": "markdown",
   "id": "9624850d",
   "metadata": {},
   "source": [
    "<b>Test</b>"
   ]
  },
  {
   "cell_type": "code",
   "execution_count": 200,
   "id": "470d7692",
   "metadata": {},
   "outputs": [
    {
     "name": "stdout",
     "output_type": "stream",
     "text": [
      "<class 'pandas.core.frame.DataFrame'>\n",
      "Int64Index: 2175 entries, 0 to 2355\n",
      "Data columns (total 11 columns):\n",
      "tweet_id              2175 non-null object\n",
      "timestamp             2175 non-null datetime64[ns, UTC]\n",
      "source                2175 non-null object\n",
      "text                  2175 non-null object\n",
      "rating_numerator      2175 non-null int64\n",
      "rating_denominator    2175 non-null int64\n",
      "name                  2175 non-null object\n",
      "doggo                 2175 non-null object\n",
      "floofer               2175 non-null object\n",
      "pupper                2175 non-null object\n",
      "puppo                 2175 non-null object\n",
      "dtypes: datetime64[ns, UTC](1), int64(2), object(8)\n",
      "memory usage: 203.9+ KB\n"
     ]
    }
   ],
   "source": [
    "clean_tweets.info()"
   ]
  },
  {
   "cell_type": "markdown",
   "id": "b52c869f",
   "metadata": {},
   "source": [
    "<b>Define</b> <br />\n",
    "Text column in `tweets table` contains two variables: text and tweet_url <br />\n",
    "Extract the <i>tweet_text</i> and <i>tweet_url</i> variables from the text column using regular expressions and the python `str.split()` method. Use an if-else conditional check when chcking url substring, since some rows are empty."
   ]
  },
  {
   "cell_type": "markdown",
   "id": "b52c869f",
   "metadata": {},
   "source": [
    "<b>Code</b>"
   ]
  },
  {
   "cell_type": "code",
   "execution_count": 201,
   "id": "a636026c",
   "metadata": {},
   "outputs": [],
   "source": [
    "tweet_text_list = []\n",
    "tweet_url_list = []\n",
    "\n",
    "for index, row in clean_tweets.iterrows():\n",
    "    try:\n",
    "        if ('https://' in clean_tweets.loc[index, 'text']):\n",
    "            tweet_text_list.append(clean_tweets.loc[index, 'text'].split('https://')[0])\n",
    "            tweet_url_list.append('https://' + clean_tweets.loc[index, 'text'].split('https://')[1])\n",
    "        else:\n",
    "            tweet_text_list.append('')\n",
    "            tweet_url_list.append('')\n",
    "    except:\n",
    "        pass\n",
    "\n",
    "clean_tweets['tweet_text'] = tweet_text_list\n",
    "clean_tweets['tweet_url'] = tweet_url_list\n",
    "clean_tweets = clean_tweets.drop('text', axis=1)"
   ]
  },
  {
   "cell_type": "markdown",
   "id": "b52c869f",
   "metadata": {},
   "source": [
    "<b>Test</b>"
   ]
  },
  {
   "cell_type": "code",
   "execution_count": 202,
   "id": "6edb4899",
   "metadata": {},
   "outputs": [
    {
     "data": {
      "text/html": [
       "<div>\n",
       "<style scoped>\n",
       "    .dataframe tbody tr th:only-of-type {\n",
       "        vertical-align: middle;\n",
       "    }\n",
       "\n",
       "    .dataframe tbody tr th {\n",
       "        vertical-align: top;\n",
       "    }\n",
       "\n",
       "    .dataframe thead th {\n",
       "        text-align: right;\n",
       "    }\n",
       "</style>\n",
       "<table border=\"1\" class=\"dataframe\">\n",
       "  <thead>\n",
       "    <tr style=\"text-align: right;\">\n",
       "      <th></th>\n",
       "      <th>tweet_id</th>\n",
       "      <th>timestamp</th>\n",
       "      <th>source</th>\n",
       "      <th>rating_numerator</th>\n",
       "      <th>rating_denominator</th>\n",
       "      <th>name</th>\n",
       "      <th>doggo</th>\n",
       "      <th>floofer</th>\n",
       "      <th>pupper</th>\n",
       "      <th>puppo</th>\n",
       "      <th>tweet_text</th>\n",
       "      <th>tweet_url</th>\n",
       "    </tr>\n",
       "  </thead>\n",
       "  <tbody>\n",
       "    <tr>\n",
       "      <th>1680</th>\n",
       "      <td>682003177596559360</td>\n",
       "      <td>2015-12-30 01:00:03+00:00</td>\n",
       "      <td>Twitter for iPhone</td>\n",
       "      <td>5</td>\n",
       "      <td>10</td>\n",
       "      <td>None</td>\n",
       "      <td>None</td>\n",
       "      <td>None</td>\n",
       "      <td>None</td>\n",
       "      <td>None</td>\n",
       "      <td>Unique dog here. Wrinkly as hell. Weird segmen...</td>\n",
       "      <td>https://t.co/Hy9La4xNX3</td>\n",
       "    </tr>\n",
       "    <tr>\n",
       "      <th>1862</th>\n",
       "      <td>675432746517426176</td>\n",
       "      <td>2015-12-11 21:51:30+00:00</td>\n",
       "      <td>Twitter for iPhone</td>\n",
       "      <td>12</td>\n",
       "      <td>10</td>\n",
       "      <td>None</td>\n",
       "      <td>None</td>\n",
       "      <td>None</td>\n",
       "      <td>None</td>\n",
       "      <td>None</td>\n",
       "      <td>Happy Friday. Here's some golden puppers. 12/1...</td>\n",
       "      <td>https://t.co/wNkqAED6lG</td>\n",
       "    </tr>\n",
       "    <tr>\n",
       "      <th>1292</th>\n",
       "      <td>708109389455101952</td>\n",
       "      <td>2016-03-11 01:56:49+00:00</td>\n",
       "      <td>Twitter for iPhone</td>\n",
       "      <td>10</td>\n",
       "      <td>10</td>\n",
       "      <td>Remington</td>\n",
       "      <td>None</td>\n",
       "      <td>None</td>\n",
       "      <td>None</td>\n",
       "      <td>None</td>\n",
       "      <td>This is Remington. He was caught off guard by ...</td>\n",
       "      <td>https://t.co/mhPSADiJmZ</td>\n",
       "    </tr>\n",
       "    <tr>\n",
       "      <th>1338</th>\n",
       "      <td>705066031337840642</td>\n",
       "      <td>2016-03-02 16:23:36+00:00</td>\n",
       "      <td>Twitter for iPhone</td>\n",
       "      <td>12</td>\n",
       "      <td>10</td>\n",
       "      <td>Reese</td>\n",
       "      <td>None</td>\n",
       "      <td>None</td>\n",
       "      <td>None</td>\n",
       "      <td>None</td>\n",
       "      <td>This is Reese. He's a Chilean Sohcahtoa. Loves...</td>\n",
       "      <td>https://t.co/VA6jnNUyuW</td>\n",
       "    </tr>\n",
       "    <tr>\n",
       "      <th>1539</th>\n",
       "      <td>689661964914655233</td>\n",
       "      <td>2016-01-20 04:13:20+00:00</td>\n",
       "      <td>Twitter for iPhone</td>\n",
       "      <td>12</td>\n",
       "      <td>10</td>\n",
       "      <td>Luca</td>\n",
       "      <td>None</td>\n",
       "      <td>None</td>\n",
       "      <td>None</td>\n",
       "      <td>None</td>\n",
       "      <td>Meet Luca. He's a Butternut Scooperfloof. Glor...</td>\n",
       "      <td>https://t.co/VcxZQPNZaV</td>\n",
       "    </tr>\n",
       "  </tbody>\n",
       "</table>\n",
       "</div>"
      ],
      "text/plain": [
       "                tweet_id                 timestamp              source  \\\n",
       "1680  682003177596559360 2015-12-30 01:00:03+00:00  Twitter for iPhone   \n",
       "1862  675432746517426176 2015-12-11 21:51:30+00:00  Twitter for iPhone   \n",
       "1292  708109389455101952 2016-03-11 01:56:49+00:00  Twitter for iPhone   \n",
       "1338  705066031337840642 2016-03-02 16:23:36+00:00  Twitter for iPhone   \n",
       "1539  689661964914655233 2016-01-20 04:13:20+00:00  Twitter for iPhone   \n",
       "\n",
       "      rating_numerator  rating_denominator       name doggo floofer pupper  \\\n",
       "1680                 5                  10       None  None    None   None   \n",
       "1862                12                  10       None  None    None   None   \n",
       "1292                10                  10  Remington  None    None   None   \n",
       "1338                12                  10      Reese  None    None   None   \n",
       "1539                12                  10       Luca  None    None   None   \n",
       "\n",
       "     puppo                                         tweet_text  \\\n",
       "1680  None  Unique dog here. Wrinkly as hell. Weird segmen...   \n",
       "1862  None  Happy Friday. Here's some golden puppers. 12/1...   \n",
       "1292  None  This is Remington. He was caught off guard by ...   \n",
       "1338  None  This is Reese. He's a Chilean Sohcahtoa. Loves...   \n",
       "1539  None  Meet Luca. He's a Butternut Scooperfloof. Glor...   \n",
       "\n",
       "                    tweet_url  \n",
       "1680  https://t.co/Hy9La4xNX3  \n",
       "1862  https://t.co/wNkqAED6lG  \n",
       "1292  https://t.co/mhPSADiJmZ  \n",
       "1338  https://t.co/VA6jnNUyuW  \n",
       "1539  https://t.co/VcxZQPNZaV  "
      ]
     },
     "execution_count": 202,
     "metadata": {},
     "output_type": "execute_result"
    }
   ],
   "source": [
    "clean_tweets.sample(5)"
   ]
  },
  {
   "cell_type": "markdown",
   "id": "9a4765dc",
   "metadata": {},
   "source": [
    "<b>Define</b><br />\n",
    "Merge the `images_df` and the `tweets_meta_df` into the `tweets_df`"
   ]
  },
  {
   "cell_type": "markdown",
   "id": "938a46b3",
   "metadata": {},
   "source": [
    "<b>Code</b>"
   ]
  },
  {
   "cell_type": "code",
   "execution_count": 203,
   "id": "a2cc99a3",
   "metadata": {},
   "outputs": [],
   "source": [
    "clean_tweets = pd.merge(left=clean_tweets, right=clean_tweets_meta, on='tweet_id', how='left')\n",
    "clean_tweets = pd.merge(left=clean_tweets, right=clean_images, on='tweet_id', how='left')"
   ]
  },
  {
   "cell_type": "markdown",
   "id": "13a33e89",
   "metadata": {},
   "source": [
    "<b>Test</b>"
   ]
  },
  {
   "cell_type": "code",
   "execution_count": 204,
   "id": "1da781a4",
   "metadata": {},
   "outputs": [
    {
     "name": "stdout",
     "output_type": "stream",
     "text": [
      "<class 'pandas.core.frame.DataFrame'>\n",
      "Int64Index: 2175 entries, 0 to 2174\n",
      "Data columns (total 25 columns):\n",
      "tweet_id              2175 non-null object\n",
      "timestamp             2175 non-null datetime64[ns, UTC]\n",
      "source                2175 non-null object\n",
      "rating_numerator      2175 non-null int64\n",
      "rating_denominator    2175 non-null int64\n",
      "name                  2175 non-null object\n",
      "doggo                 2175 non-null object\n",
      "floofer               2175 non-null object\n",
      "pupper                2175 non-null object\n",
      "puppo                 2175 non-null object\n",
      "tweet_text            2175 non-null object\n",
      "tweet_url             2175 non-null object\n",
      "retweet_count         2167 non-null float64\n",
      "favorite_count        2167 non-null float64\n",
      "jpg_url               1994 non-null object\n",
      "img_num               1994 non-null float64\n",
      "p1                    1994 non-null object\n",
      "p1_conf               1994 non-null float64\n",
      "p1_dog                1994 non-null object\n",
      "p2                    1994 non-null object\n",
      "p2_conf               1994 non-null float64\n",
      "p2_dog                1994 non-null object\n",
      "p3                    1994 non-null object\n",
      "p3_conf               1994 non-null float64\n",
      "p3_dog                1994 non-null object\n",
      "dtypes: datetime64[ns, UTC](1), float64(6), int64(2), object(16)\n",
      "memory usage: 441.8+ KB\n"
     ]
    }
   ],
   "source": [
    "clean_tweets.info()"
   ]
  },
  {
   "cell_type": "markdown",
   "id": "855ae52d",
   "metadata": {},
   "source": [
    "<b>Define</b><br />\n",
    "`doggo, floofer, pupper and puppo columns:` should be merged into a single column `dog_stage`"
   ]
  },
  {
   "cell_type": "markdown",
   "id": "ad93bb53",
   "metadata": {},
   "source": [
    "<b>Code</b>"
   ]
  },
  {
   "cell_type": "code",
   "execution_count": 205,
   "id": "f225c5be",
   "metadata": {},
   "outputs": [],
   "source": [
    "for index, row in clean_tweets.iterrows():\n",
    "    stages = []\n",
    "    stages.append(clean_tweets.loc[index, 'doggo'])\n",
    "    stages.append(clean_tweets.loc[index, 'floofer'])\n",
    "    stages.append(clean_tweets.loc[index, 'pupper'])\n",
    "    stages.append(clean_tweets.loc[index, 'puppo'])\n",
    "    if (stages.count('None') < 3):\n",
    "        clean_tweets.loc[index, 'dog_stage'] = 'Multiple'\n",
    "    else:\n",
    "        if (stages.count('doggo') == 1):\n",
    "            clean_tweets.loc[index, 'dog_stage'] = 'Doggo'\n",
    "        elif (stages.count('floofer') == 1):\n",
    "            clean_tweets.loc[index, 'dog_stage'] = 'Floofer'\n",
    "        elif (stages.count('pupper') == 1):\n",
    "            clean_tweets.loc[index, 'dog_stage'] = 'Pupper'\n",
    "        elif (stages.count('puppo') == 1):\n",
    "            clean_tweets.loc[index, 'dog_stage'] = 'Puppo'\n",
    "        else:\n",
    "            clean_tweets.loc[index, 'dog_stage'] = 'None'\n",
    "\n",
    "# drop unecessary columns\n",
    "clean_tweets = clean_tweets.drop(['doggo', 'floofer', 'pupper', 'puppo'], axis=1)"
   ]
  },
  {
   "cell_type": "markdown",
   "id": "23e63fed",
   "metadata": {},
   "source": [
    "<b>Test</b>"
   ]
  },
  {
   "cell_type": "code",
   "execution_count": 206,
   "id": "554dab93",
   "metadata": {},
   "outputs": [
    {
     "name": "stdout",
     "output_type": "stream",
     "text": [
      "<class 'pandas.core.frame.DataFrame'>\n",
      "Int64Index: 2175 entries, 0 to 2174\n",
      "Data columns (total 22 columns):\n",
      "tweet_id              2175 non-null object\n",
      "timestamp             2175 non-null datetime64[ns, UTC]\n",
      "source                2175 non-null object\n",
      "rating_numerator      2175 non-null int64\n",
      "rating_denominator    2175 non-null int64\n",
      "name                  2175 non-null object\n",
      "tweet_text            2175 non-null object\n",
      "tweet_url             2175 non-null object\n",
      "retweet_count         2167 non-null float64\n",
      "favorite_count        2167 non-null float64\n",
      "jpg_url               1994 non-null object\n",
      "img_num               1994 non-null float64\n",
      "p1                    1994 non-null object\n",
      "p1_conf               1994 non-null float64\n",
      "p1_dog                1994 non-null object\n",
      "p2                    1994 non-null object\n",
      "p2_conf               1994 non-null float64\n",
      "p2_dog                1994 non-null object\n",
      "p3                    1994 non-null object\n",
      "p3_conf               1994 non-null float64\n",
      "p3_dog                1994 non-null object\n",
      "dog_stage             2175 non-null object\n",
      "dtypes: datetime64[ns, UTC](1), float64(6), int64(2), object(13)\n",
      "memory usage: 470.8+ KB\n"
     ]
    },
    {
     "data": {
      "text/plain": [
       "None        1831\n",
       "Pupper       224\n",
       "Doggo         75\n",
       "Puppo         24\n",
       "Multiple      12\n",
       "Floofer        9\n",
       "Name: dog_stage, dtype: int64"
      ]
     },
     "execution_count": 206,
     "metadata": {},
     "output_type": "execute_result"
    }
   ],
   "source": [
    "clean_tweets.info()\n",
    "clean_tweets.dog_stage.value_counts()"
   ]
  },
  {
   "cell_type": "markdown",
   "id": "2d30df1f",
   "metadata": {},
   "source": [
    "<h3>Savin Master Dataset</h3>"
   ]
  },
  {
   "cell_type": "code",
   "execution_count": 207,
   "id": "ccad145e",
   "metadata": {},
   "outputs": [],
   "source": [
    "clean_tweets.to_csv('twitter_archive_master.csv', index=False)"
   ]
  },
  {
   "cell_type": "markdown",
   "id": "d79c6c6f",
   "metadata": {},
   "source": [
    "<h3>Analysis and Visualization of Clean Data</h3>"
   ]
  },
  {
   "cell_type": "code",
   "execution_count": 208,
   "id": "e521b9c5",
   "metadata": {},
   "outputs": [],
   "source": [
    "master_clean_tweets = pd.read_csv('twitter_archive_master.csv')"
   ]
  },
  {
   "cell_type": "code",
   "execution_count": 209,
   "id": "94feed62",
   "metadata": {},
   "outputs": [
    {
     "name": "stdout",
     "output_type": "stream",
     "text": [
      "<class 'pandas.core.frame.DataFrame'>\n",
      "RangeIndex: 2175 entries, 0 to 2174\n",
      "Data columns (total 22 columns):\n",
      "tweet_id              2175 non-null int64\n",
      "timestamp             2175 non-null object\n",
      "source                2175 non-null object\n",
      "rating_numerator      2175 non-null int64\n",
      "rating_denominator    2175 non-null int64\n",
      "name                  2175 non-null object\n",
      "tweet_text            2117 non-null object\n",
      "tweet_url             2117 non-null object\n",
      "retweet_count         2167 non-null float64\n",
      "favorite_count        2167 non-null float64\n",
      "jpg_url               1994 non-null object\n",
      "img_num               1994 non-null float64\n",
      "p1                    1994 non-null object\n",
      "p1_conf               1994 non-null float64\n",
      "p1_dog                1994 non-null object\n",
      "p2                    1994 non-null object\n",
      "p2_conf               1994 non-null float64\n",
      "p2_dog                1994 non-null object\n",
      "p3                    1994 non-null object\n",
      "p3_conf               1994 non-null float64\n",
      "p3_dog                1994 non-null object\n",
      "dog_stage             2175 non-null object\n",
      "dtypes: float64(6), int64(3), object(13)\n",
      "memory usage: 373.9+ KB\n"
     ]
    }
   ],
   "source": [
    "master_clean_tweets.info()"
   ]
  },
  {
   "cell_type": "markdown",
   "id": "4e67f8c5",
   "metadata": {},
   "source": [
    "Convert datatype again. As most have been changed to object datatype after saving the master dataset"
   ]
  },
  {
   "cell_type": "code",
   "execution_count": 211,
   "id": "334a2edd",
   "metadata": {},
   "outputs": [],
   "source": [
    "master_clean_tweets.tweet_id = master_clean_tweets.tweet_id.astype(str)\n",
    "master_clean_tweets.source = master_clean_tweets.source.astype(\"category\")\n",
    "master_clean_tweets.timestamp = pd.to_datetime(master_clean_tweets.timestamp)\n",
    "master_clean_tweets.dog_stage = master_clean_tweets.dog_stage.astype(\"category\")"
   ]
  },
  {
   "cell_type": "code",
   "execution_count": 212,
   "id": "49ccebb9",
   "metadata": {},
   "outputs": [
    {
     "name": "stdout",
     "output_type": "stream",
     "text": [
      "<class 'pandas.core.frame.DataFrame'>\n",
      "RangeIndex: 2175 entries, 0 to 2174\n",
      "Data columns (total 22 columns):\n",
      "tweet_id              2175 non-null object\n",
      "timestamp             2175 non-null datetime64[ns, UTC]\n",
      "source                2175 non-null category\n",
      "rating_numerator      2175 non-null int64\n",
      "rating_denominator    2175 non-null int64\n",
      "name                  2175 non-null object\n",
      "tweet_text            2117 non-null object\n",
      "tweet_url             2117 non-null object\n",
      "retweet_count         2167 non-null float64\n",
      "favorite_count        2167 non-null float64\n",
      "jpg_url               1994 non-null object\n",
      "img_num               1994 non-null float64\n",
      "p1                    1994 non-null object\n",
      "p1_conf               1994 non-null float64\n",
      "p1_dog                1994 non-null object\n",
      "p2                    1994 non-null object\n",
      "p2_conf               1994 non-null float64\n",
      "p2_dog                1994 non-null object\n",
      "p3                    1994 non-null object\n",
      "p3_conf               1994 non-null float64\n",
      "p3_dog                1994 non-null object\n",
      "dog_stage             2175 non-null category\n",
      "dtypes: category(2), datetime64[ns, UTC](1), float64(6), int64(2), object(11)\n",
      "memory usage: 344.6+ KB\n"
     ]
    }
   ],
   "source": [
    "master_clean_tweets.info()"
   ]
  },
  {
   "cell_type": "markdown",
   "id": "8e6fb753",
   "metadata": {},
   "source": [
    "<h4>1. POPULARITY OF SOURCES FOR TWEETS <br>\n",
    "Where is the source of most tweets? <br> "
   ]
  },
  {
   "cell_type": "code",
   "execution_count": 244,
   "id": "2398b25a",
   "metadata": {},
   "outputs": [
    {
     "data": {
      "image/png": "[encoded data removed]",
      "text/plain": [
       "<Figure size 720x504 with 1 Axes>"
      ]
     },
     "metadata": {
      "needs_background": "light"
     },
     "output_type": "display_data"
    }
   ],
   "source": [
    "tweet_sources = master_clean_tweets.source.value_counts()\n",
    "\n",
    "sources_bar_graph = tweet_sources.plot.bar(color='green', fontsize=15)\n",
    "\n",
    "sources_bar_graph.figure.set_size_inches(10,7)\n",
    "\n",
    "plt.title('Popularity of tweet sources', color = 'black', fontsize = '15')\n",
    "plt.xlabel('Tweet Sources', color = 'black', fontsize = '15')\n",
    "plt.ylabel('Usage Count', color = 'black', fontsize = '15');\n",
    "\n",
    "plt.savefig('tweet_sources.png')"
   ]
  },
  {
   "cell_type": "markdown",
   "id": "e40222d8",
   "metadata": {},
   "source": [
    "The most popular tweet source is `Twitter for iPhone`."
   ]
  },
  {
   "cell_type": "markdown",
   "id": "8e6fb753",
   "metadata": {},
   "source": [
    "<h4>2. 5 MOST POPULAR DOG NAMES</h4>\n",
    "Which names are so common among the dogs?"
   ]
  },
  {
   "cell_type": "code",
   "execution_count": 245,
   "id": "f7d63a5e",
   "metadata": {},
   "outputs": [
    {
     "data": {
      "image/png": "[encoded data removed]",
      "text/plain": [
       "<Figure size 720x504 with 1 Axes>"
      ]
     },
     "metadata": {
      "needs_background": "light"
     },
     "output_type": "display_data"
    }
   ],
   "source": [
    "popular_dog_names = master_clean_tweets.name.value_counts().drop('None')[0:5]\n",
    "\n",
    "names_bar_graph = popular_dog_names.plot.bar(color = 'green', fontsize=15)\n",
    "\n",
    "names_bar_graph.figure.set_size_inches(10,7)\n",
    "\n",
    "plt.title('5 Most popular Dog Names', color = 'black', fontsize = '15')\n",
    "plt.xlabel('Dog Names', color = 'black', fontsize = '15')\n",
    "plt.ylabel('Popularity Count', color = 'black', fontsize = '15')\n",
    "\n",
    "plt.savefig('dog_names.png')"
   ]
  },
  {
   "cell_type": "markdown",
   "id": "c9fed65e",
   "metadata": {},
   "source": [
    "The 5 most popular dog names are Charlie, Lucy, Cooper, Oliver and Penny, in that order."
   ]
  },
  {
   "cell_type": "markdown",
   "id": "8e6fb753",
   "metadata": {},
   "source": [
    "<h4>3. CORRELATION BETWEEN FAVORITE COUNT AND RETWEETS COUNT OF THE WERATEDOGS POSTS</h4>\n",
    "Is there a relationship between how often tweets are retweeted compared to how often they are liked by users?"
   ]
  },
  {
   "cell_type": "code",
   "execution_count": 246,
   "id": "699d527b",
   "metadata": {},
   "outputs": [
    {
     "data": {
      "image/png": "[encoded data removed]",
      "text/plain": [
       "<Figure size 720x504 with 1 Axes>"
      ]
     },
     "metadata": {
      "needs_background": "light"
     },
     "output_type": "display_data"
    }
   ],
   "source": [
    "master_clean_tweets.plot(x='retweet_count', y='favorite_count', kind='scatter', title='Correlation between Retweet Count and Favorite Count', figsize=(10,7), color='green')\n",
    "\n",
    "plt.savefig('likes_vs_retweets_corr.png')"
   ]
  },
  {
   "cell_type": "code",
   "execution_count": 239,
   "id": "a3d1f40f",
   "metadata": {},
   "outputs": [
    {
     "data": {
      "text/plain": [
       "0.9262542799659841"
      ]
     },
     "execution_count": 239,
     "metadata": {},
     "output_type": "execute_result"
    }
   ],
   "source": [
    "master_clean_tweets['retweet_count'].corr(master_clean_tweets['favorite_count'])"
   ]
  },
  {
   "cell_type": "markdown",
   "id": "482889f2",
   "metadata": {},
   "source": [
    "This implies a very high positive correlation between retweets count and tweet likes."
   ]
  }
 ],
 "metadata": {
  "kernelspec": {
   "display_name": "Python 3 (ipykernel)",
   "language": "python",
   "name": "python3"
  },
  "language_info": {
   "codemirror_mode": {
    "name": "ipython",
    "version": 2
   },
   "file_extension": ".py",
   "mimetype": "text/x-python",
   "name": "python",
   "nbconvert_exporter": "python",
   "pygments_lexer": "ipython2",
   "version": "2.7.16"
  },
  "vscode": {
   "interpreter": {
    "hash": "1f2daa915e70b35fca5ee9e57df5533dec161acca5d52eb384ff2606b793a0f3"
   }
  }
 },
 "nbformat": 4,
 "nbformat_minor": 5
}
