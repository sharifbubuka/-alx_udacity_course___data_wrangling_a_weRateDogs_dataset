{
 "cells": [
  {
   "cell_type": "markdown",
   "id": "4e305c7a",
   "metadata": {},
   "source": [
    "## DATA WRANGLING - @WERATEDOGS DATASET\n",
    "In this project,"
   ]
  },
  {
   "cell_type": "code",
   "execution_count": 6,
   "id": "2808bb7d",
   "metadata": {},
   "outputs": [],
   "source": [
    "# import installed packages\n",
    "import pandas as pd\n",
    "import numpy as np\n",
    "import requests\n",
    "import json\n",
    "import tweepy\n",
    "from tweepy import OAuthHandler\n",
    "from timeit import default_timer as timer"
   ]
  },
  {
   "cell_type": "code",
   "execution_count": 85,
   "id": "d5eb2ad6",
   "metadata": {},
   "outputs": [],
   "source": [
    "# setup tweepy\n",
    "_consumer_key = ''\n",
    "_consumer_secret = ''\n",
    "_access_token = \"\"\n",
    "_access_token_secret = \"\"\n",
    "\n",
    "with open('auth_keys.txt', 'r') as auth_keys:\n",
    "    try:\n",
    "        _consumer_key = auth_keys.readline().split('\"')[1:-1][0]\n",
    "        _consumer_secret = auth_keys.readline().split('\"')[1:-1][0]\n",
    "        _access_token = auth_keys.readline().split('\"')[1:-1][0]\n",
    "        _access_token_secret = auth_keys.readline().split('\"')[1:-1][0]\n",
    "    except:\n",
    "        raise Exception('Error: auth_keys.txt is missing or keys not found in source.')\n",
    "\n",
    "auth = OAuthHandler(_consumer_key, _consumer_secret)\n",
    "auth.set_access_token(_access_token, _access_token_secret)\n",
    "api = tweepy.API(auth, wait_on_rate_limit=True)"
   ]
  },
  {
   "cell_type": "code",
   "execution_count": 3,
   "id": "8dcf85d3",
   "metadata": {},
   "outputs": [],
   "source": [
    "# reusable functions\n",
    "def get_image_predictions_tsv():\n",
    "    url = \" https://d17h27t6h515a5.cloudfront.net/topher/2017/August/599fd2ad_image-predictions/image-predictions.tsv\"\n",
    "    response = requests.get(url)\n",
    "    with open('image-predictions.tsv', 'wb') as file:\n",
    "        file.write(response.content)\n",
    "        \n",
    "def get_tweet_status(tweet_id):\n",
    "    if (isinstance(tweet_id, str)):\n",
    "        try:\n",
    "            tweet_status = api.get_status(tweet_id, tweet_mode='extended')\n",
    "            return tweet_status # retweet_count | favorite_count | id_str\n",
    "        except:\n",
    "            return None\n",
    "    else:\n",
    "        raise Exception(\"Invalid argument types passed to function.\")      "
   ]
  },
  {
   "cell_type": "code",
   "execution_count": 87,
   "id": "cc3f2d72",
   "metadata": {},
   "outputs": [],
   "source": [
    "# gather data\n",
    "tweets_df = pd.read_csv(\"twitter-archive-enhanced.csv\", index_col=False)\n",
    "images_df = pd.read_csv(\"image-predictions.tsv\", sep=\"\\t\", index_col=\"tweet_id\")"
   ]
  },
  {
   "cell_type": "code",
   "execution_count": null,
   "id": "3c1b5edb",
   "metadata": {},
   "outputs": [],
   "source": [
    "# gather each tweet's retweet_count and favorite_count\n",
    "with open('tweet_json.txt', 'w') as file:\n",
    "        start = timer()\n",
    "        for index, row in tweets_df.iterrows():\n",
    "            tweet_status = get_tweet_status(str(row['tweet_id']))\n",
    "            if tweet_status is None:\n",
    "                file.write('id_str: u\\'Invalid\\',retweet_count\\': Invalid, favorite_count\\': Invalid,\\n')\n",
    "            file.write(str(tweet_status) + '\\n')\n",
    "        end = timer()\n",
    "\n",
    "print('Time taken: ' + end - start)\n",
    "    "
   ]
  },
  {
   "cell_type": "code",
   "execution_count": 95,
   "id": "fc03ad57",
   "metadata": {},
   "outputs": [],
   "source": [
    "df_data = {'tweet_id': [], 'retweet_count': [], 'favorite_count': []}\n",
    "\n",
    "with open('tweet_json.txt', 'r') as tweet_json:\n",
    "    lines = tweet_json.read().split('\\n');\n",
    "    for line in lines:\n",
    "        try:\n",
    "           df_data['tweet_id'].append(line.split('id_str\\': u\\'')[1].split('\\'')[0])\n",
    "           df_data['retweet_count'].append(line.split('retweet_count\\': ')[1].split(',')[0])\n",
    "           df_data['favorite_count'].append(line.split('favorite_count\\': ')[1].split(',')[0]) \n",
    "        except:\n",
    "            pass\n",
    "\n",
    "tweets_meta_df = pd.DataFrame(df_data)"
   ]
  }
 ],
 "metadata": {
  "kernelspec": {
   "display_name": "Python 3 (ipykernel)",
   "language": "python",
   "name": "python3"
  },
  "language_info": {
   "codemirror_mode": {
    "name": "ipython",
    "version": 3
   },
   "file_extension": ".py",
   "mimetype": "text/x-python",
   "name": "python",
   "nbconvert_exporter": "python",
   "pygments_lexer": "ipython3",
   "version": "3.9.12"
  },
  "vscode": {
   "interpreter": {
    "hash": "1f2daa915e70b35fca5ee9e57df5533dec161acca5d52eb384ff2606b793a0f3"
   }
  }
 },
 "nbformat": 4,
 "nbformat_minor": 5
}
