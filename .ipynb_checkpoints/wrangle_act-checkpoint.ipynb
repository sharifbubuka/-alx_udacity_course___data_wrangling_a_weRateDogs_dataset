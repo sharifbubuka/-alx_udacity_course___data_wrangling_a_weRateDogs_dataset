{
 "cells": [
  {
   "cell_type": "code",
   "execution_count": 9,
   "id": "2808bb7d",
   "metadata": {},
   "outputs": [
    {
     "ename": "ModuleNotFoundError",
     "evalue": "No module named 'tweepy'",
     "output_type": "error",
     "traceback": [
      "\u001b[1;31m---------------------------------------------------------------------------\u001b[0m",
      "\u001b[1;31mModuleNotFoundError\u001b[0m                       Traceback (most recent call last)",
      "Input \u001b[1;32mIn [9]\u001b[0m, in \u001b[0;36m<cell line: 6>\u001b[1;34m()\u001b[0m\n\u001b[0;32m      4\u001b[0m \u001b[38;5;28;01mimport\u001b[39;00m \u001b[38;5;21;01mrequests\u001b[39;00m\n\u001b[0;32m      5\u001b[0m \u001b[38;5;28;01mimport\u001b[39;00m \u001b[38;5;21;01mjson\u001b[39;00m\n\u001b[1;32m----> 6\u001b[0m \u001b[38;5;28;01mimport\u001b[39;00m \u001b[38;5;21;01mtweepy\u001b[39;00m\n\u001b[0;32m      7\u001b[0m \u001b[38;5;28;01mfrom\u001b[39;00m \u001b[38;5;21;01mtweepy\u001b[39;00m \u001b[38;5;28;01mimport\u001b[39;00m OAuthHandler\n\u001b[0;32m      8\u001b[0m \u001b[38;5;28;01mfrom\u001b[39;00m \u001b[38;5;21;01mtimeit\u001b[39;00m \u001b[38;5;28;01mimport\u001b[39;00m default_timer \u001b[38;5;28;01mas\u001b[39;00m timer\n",
      "\u001b[1;31mModuleNotFoundError\u001b[0m: No module named 'tweepy'"
     ]
    }
   ],
   "source": [
    "# import installed packages\n",
    "import pandas as pd\n",
    "import numpy as np\n",
    "import requests\n",
    "import json\n",
    "import tweepy\n",
    "from tweepy import OAuthHandler\n",
    "from timeit import default_timer as timer"
   ]
  },
  {
   "cell_type": "code",
   "execution_count": 8,
   "id": "d5eb2ad6",
   "metadata": {},
   "outputs": [
    {
     "ename": "NameError",
     "evalue": "name 'OAuthHandler' is not defined",
     "output_type": "error",
     "traceback": [
      "\u001b[1;31m---------------------------------------------------------------------------\u001b[0m",
      "\u001b[1;31mNameError\u001b[0m                                 Traceback (most recent call last)",
      "Input \u001b[1;32mIn [8]\u001b[0m, in \u001b[0;36m<cell line: 7>\u001b[1;34m()\u001b[0m\n\u001b[0;32m      5\u001b[0m _access_token_secret \u001b[38;5;241m=\u001b[39m \u001b[38;5;124m\"\u001b[39m\u001b[38;5;124m1B9NggGAWQTnMv5qM5czf2bgElmofCfMDmMrCuXyAS2Qm\u001b[39m\u001b[38;5;124m\"\u001b[39m\n\u001b[0;32m      6\u001b[0m \u001b[38;5;66;03m# _bearer_token = \"AAAAAAAAAAAAAAAAAAAAABjlggEAAAAA6wEM6z7BDVZus3s%2F7lZz665tasQ%3DP7ZEwHjZvhmtVwUdSpEztDlpKJU3zADm0NxYLFJxpnDt4JGPbn\"\u001b[39;00m\n\u001b[1;32m----> 7\u001b[0m auth \u001b[38;5;241m=\u001b[39m \u001b[43mOAuthHandler\u001b[49m(_consumer_key, _consumer_secret)\n\u001b[0;32m      8\u001b[0m auth\u001b[38;5;241m.\u001b[39mset_access_token(_access_token, _access_token_secret)\n\u001b[0;32m      9\u001b[0m api \u001b[38;5;241m=\u001b[39m tweepy\u001b[38;5;241m.\u001b[39mAPI(auth, wait_on_rate_limit\u001b[38;5;241m=\u001b[39m\u001b[38;5;28;01mTrue\u001b[39;00m)\n",
      "\u001b[1;31mNameError\u001b[0m: name 'OAuthHandler' is not defined"
     ]
    }
   ],
   "source": [
    "# setup tweepy\n",
    "_consumer_key = \"ROMhW6fnANbkm741ULCEzYjU7\"\n",
    "_consumer_secret = \"rRZgBhrt2xSXXR0rR5VEnB6tTIYFbTLuIeLaH6LklmAvtVyfQW\"\n",
    "_access_token = \"1558849950729256960-Es1F5Qg1mig7qT5sv6kRiYWZwWuJ9R\"\n",
    "_access_token_secret = \"1B9NggGAWQTnMv5qM5czf2bgElmofCfMDmMrCuXyAS2Qm\"\n",
    "# _bearer_token = \"AAAAAAAAAAAAAAAAAAAAABjlggEAAAAA6wEM6z7BDVZus3s%2F7lZz665tasQ%3DP7ZEwHjZvhmtVwUdSpEztDlpKJU3zADm0NxYLFJxpnDt4JGPbn\"\n",
    "auth = OAuthHandler(_consumer_key, _consumer_secret)\n",
    "auth.set_access_token(_access_token, _access_token_secret)\n",
    "api = tweepy.API(auth, wait_on_rate_limit=True)\n",
    "# client = tweepy.Client(bearer_token=_bearer_token)"
   ]
  },
  {
   "cell_type": "code",
   "execution_count": 7,
   "id": "8dcf85d3",
   "metadata": {},
   "outputs": [],
   "source": [
    "# reusable functions\n",
    "invalid_tweet_ids = {}\n",
    "\n",
    "def get_image_predictions_tsv():\n",
    "    url = \" https://d17h27t6h515a5.cloudfront.net/topher/2017/August/599fd2ad_image-predictions/image-predictions.tsv\"\n",
    "    response = requests.get(url)\n",
    "    with open('image-predictions.tsv', 'wb') as file:\n",
    "        file.write(response.content)\n",
    "        \n",
    "def get_tweet_status(tweet_id):\n",
    "    if (isinstance(tweet_id, str)):\n",
    "        try:\n",
    "            tweet_status = api.get_status(tweet_id, tweet_mode='extended')\n",
    "            return tweet_status # retweet_count | favorite_count | id_str\n",
    "        except tweepy.TweepError as error:\n",
    "            invalid_tweet_ids[tweet_id] = error\n",
    "            pass\n",
    "    else:\n",
    "        raise Exception(\"Invalid argument types passed to function.\")      "
   ]
  },
  {
   "cell_type": "code",
   "execution_count": 174,
   "id": "cc3f2d72",
   "metadata": {},
   "outputs": [
    {
     "name": "stdout",
     "output_type": "stream",
     "text": [
      "<class 'pandas.core.frame.DataFrame'>\n",
      "RangeIndex: 2356 entries, 0 to 2355\n",
      "Data columns (total 17 columns):\n",
      "tweet_id                      2356 non-null int64\n",
      "in_reply_to_status_id         78 non-null float64\n",
      "in_reply_to_user_id           78 non-null float64\n",
      "timestamp                     2356 non-null object\n",
      "source                        2356 non-null object\n",
      "text                          2356 non-null object\n",
      "retweeted_status_id           181 non-null float64\n",
      "retweeted_status_user_id      181 non-null float64\n",
      "retweeted_status_timestamp    181 non-null object\n",
      "expanded_urls                 2297 non-null object\n",
      "rating_numerator              2356 non-null int64\n",
      "rating_denominator            2356 non-null int64\n",
      "name                          2356 non-null object\n",
      "doggo                         2356 non-null object\n",
      "floofer                       2356 non-null object\n",
      "pupper                        2356 non-null object\n",
      "puppo                         2356 non-null object\n",
      "dtypes: float64(4), int64(3), object(10)\n",
      "memory usage: 313.0+ KB\n"
     ]
    }
   ],
   "source": [
    "# gather data\n",
    "tweets_df = pd.read_csv(\"twitter-archive-enhanced.csv\", index_col=False)\n",
    "images_df = pd.read_csv(\"image-predictions.tsv\", sep=\"\\t\", index_col=\"tweet_id\")\n",
    "tweets_df.info()"
   ]
  },
  {
   "cell_type": "code",
   "execution_count": null,
   "id": "3c1b5edb",
   "metadata": {},
   "outputs": [],
   "source": [
    "# gather each tweet's retweet_count and favorite_count\n",
    "with open('tweet_json.txt', 'w') as file:\n",
    "        start = timer()\n",
    "        for index, row in tweets_df.iterrows():\n",
    "            tweet_status = get_tweet_status(str(row['tweet_id']))\n",
    "            file.write(str(tweet_status) + '\\n')\n",
    "        end = timer()\n",
    "\n",
    "print(end - start)\n",
    "print(invalid_tweet_ids)\n",
    "    "
   ]
  },
  {
   "cell_type": "code",
   "execution_count": null,
   "id": "fc03ad57",
   "metadata": {},
   "outputs": [],
   "source": []
  }
 ],
 "metadata": {
  "kernelspec": {
   "display_name": "Python 3 (ipykernel)",
   "language": "python",
   "name": "python3"
  },
  "language_info": {
   "codemirror_mode": {
    "name": "ipython",
    "version": 3
   },
   "file_extension": ".py",
   "mimetype": "text/x-python",
   "name": "python",
   "nbconvert_exporter": "python",
   "pygments_lexer": "ipython3",
   "version": "3.9.12"
  },
  "vscode": {
   "interpreter": {
    "hash": "1f2daa915e70b35fca5ee9e57df5533dec161acca5d52eb384ff2606b793a0f3"
   }
  }
 },
 "nbformat": 4,
 "nbformat_minor": 5
}
